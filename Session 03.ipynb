{
 "cells": [
  {
   "cell_type": "markdown",
   "id": "47e01334",
   "metadata": {},
   "source": [
    "# Lambda "
   ]
  },
  {
   "cell_type": "code",
   "execution_count": 1,
   "id": "63a77ce0",
   "metadata": {},
   "outputs": [],
   "source": [
    "#lambda function declartion\n",
    "lambda_techlang=lambda x,y:x+y"
   ]
  },
  {
   "cell_type": "code",
   "execution_count": 2,
   "id": "48912766",
   "metadata": {},
   "outputs": [
    {
     "data": {
      "text/plain": [
       "93"
      ]
     },
     "execution_count": 2,
     "metadata": {},
     "output_type": "execute_result"
    }
   ],
   "source": [
    "#lambda function call\n",
    "result=lambda_techlang(15,78)\n",
    "result"
   ]
  },
  {
   "cell_type": "code",
   "execution_count": 4,
   "id": "a15bee65",
   "metadata": {},
   "outputs": [],
   "source": [
    "def lambda_techlang(x,y):\n",
    "    return x+y"
   ]
  },
  {
   "cell_type": "code",
   "execution_count": 5,
   "id": "cd4e9bd7",
   "metadata": {},
   "outputs": [
    {
     "data": {
      "text/plain": [
       "93"
      ]
     },
     "execution_count": 5,
     "metadata": {},
     "output_type": "execute_result"
    }
   ],
   "source": [
    "lambda_techlang(15,78)"
   ]
  },
  {
   "cell_type": "code",
   "execution_count": null,
   "id": "7153d31f",
   "metadata": {},
   "outputs": [],
   "source": []
  },
  {
   "cell_type": "markdown",
   "id": "4eba53f4",
   "metadata": {},
   "source": [
    "# Map, Filter, and Reduce"
   ]
  },
  {
   "cell_type": "code",
   "execution_count": 8,
   "id": "a24391e2",
   "metadata": {},
   "outputs": [
    {
     "data": {
      "text/plain": [
       "[1, 4, 9, 16, 25, 36]"
      ]
     },
     "execution_count": 8,
     "metadata": {},
     "output_type": "execute_result"
    }
   ],
   "source": [
    "numbers=[1,2,3,4,5,6]\n",
    "squared_num=list(map(lambda x:x**2,numbers))\n",
    "squared_num"
   ]
  },
  {
   "cell_type": "code",
   "execution_count": 9,
   "id": "27c21773",
   "metadata": {},
   "outputs": [
    {
     "data": {
      "text/plain": [
       "[1, 4, 9, 16, 25, 36, 121, 2704, 1, 4, 36, 64, 49, 16]"
      ]
     },
     "execution_count": 9,
     "metadata": {},
     "output_type": "execute_result"
    }
   ],
   "source": [
    "numb=[1,2,3,4,5,6,11,52,1,2,6,8,7,4]\n",
    "squared_num=list(map(lambda x:x**2,numb))\n",
    "squared_num"
   ]
  },
  {
   "cell_type": "code",
   "execution_count": 11,
   "id": "92c00b05",
   "metadata": {},
   "outputs": [
    {
     "data": {
      "text/plain": [
       "[2, 4, 6, 52, 2, 6, 8, 4]"
      ]
     },
     "execution_count": 11,
     "metadata": {},
     "output_type": "execute_result"
    }
   ],
   "source": [
    "#Filter\n",
    "# new_list=filter(function,iterable)\n",
    "numbers=[1,2,3,4,5,6,11,52,1,2,6,8,7,4]\n",
    "even_numbers=list(filter(lambda x:x%2==0,numbers))\n",
    "even_numbers"
   ]
  },
  {
   "cell_type": "code",
   "execution_count": 12,
   "id": "6a18e009",
   "metadata": {},
   "outputs": [
    {
     "data": {
      "text/plain": [
       "[1, 3, 5, 11, 1, 7]"
      ]
     },
     "execution_count": 12,
     "metadata": {},
     "output_type": "execute_result"
    }
   ],
   "source": [
    "#Filter\n",
    "# new_list=filter(function,iterable)\n",
    "numbers=[1,2,3,4,5,6,11,52,1,2,6,8,7,4]\n",
    "odd_numbers=list(filter(lambda x:x%2!=0,numbers))\n",
    "odd_numbers"
   ]
  },
  {
   "cell_type": "code",
   "execution_count": 13,
   "id": "9fa33cfd",
   "metadata": {},
   "outputs": [
    {
     "data": {
      "text/plain": [
       "720"
      ]
     },
     "execution_count": 13,
     "metadata": {},
     "output_type": "execute_result"
    }
   ],
   "source": [
    "#Reduce\n",
    "#  Importing a specific function from a module\n",
    "# from functools import reduce \n",
    "# result=reduce(function,iterable)\n",
    "from functools import reduce \n",
    "numbers=[1,2,3,4,5,6]\n",
    "\n",
    "product=reduce(lambda x,y:x*y,numbers)\n",
    "\n",
    "product"
   ]
  },
  {
   "cell_type": "code",
   "execution_count": 14,
   "id": "1ef70bc3",
   "metadata": {},
   "outputs": [
    {
     "data": {
      "text/plain": [
       "720"
      ]
     },
     "execution_count": 14,
     "metadata": {},
     "output_type": "execute_result"
    }
   ],
   "source": [
    "1*2*3*4*5*6"
   ]
  },
  {
   "cell_type": "code",
   "execution_count": 15,
   "id": "7cc2d4e4",
   "metadata": {},
   "outputs": [
    {
     "data": {
      "text/plain": [
       "1107025920"
      ]
     },
     "execution_count": 15,
     "metadata": {},
     "output_type": "execute_result"
    }
   ],
   "source": [
    "from functools import reduce \n",
    "numbers=[1,2,3,4,5,6,11,52,1,2,6,8,7,4]\n",
    "\n",
    "product=reduce(lambda x,y:x*y,numbers)\n",
    "\n",
    "product"
   ]
  },
  {
   "cell_type": "markdown",
   "id": "d7ce902c",
   "metadata": {},
   "source": [
    "# Decorators"
   ]
  },
  {
   "cell_type": "code",
   "execution_count": 17,
   "id": "6e8c29f7",
   "metadata": {},
   "outputs": [],
   "source": [
    "# Decorator function\n",
    "def decorator_function(original_function):\n",
    "    def wrapper_function(*args, **kwargs):\n",
    "        # code before original function\n",
    "        result = original_function(*args, **kwargs) #\n",
    "# code after original function\n",
    "        return result\n",
    "    return wrapper_function"
   ]
  },
  {
   "cell_type": "code",
   "execution_count": 18,
   "id": "57eeafcb",
   "metadata": {},
   "outputs": [
    {
     "ename": "IndentationError",
     "evalue": "expected an indented block (2678377518.py, line 4)",
     "output_type": "error",
     "traceback": [
      "\u001b[1;36m  File \u001b[1;32m\"C:\\Users\\Sachin\\AppData\\Local\\Temp\\ipykernel_17444\\2678377518.py\"\u001b[1;36m, line \u001b[1;32m4\u001b[0m\n\u001b[1;33m    # code bloc\u001b[0m\n\u001b[1;37m               ^\u001b[0m\n\u001b[1;31mIndentationError\u001b[0m\u001b[1;31m:\u001b[0m expected an indented block\n"
     ]
    }
   ],
   "source": [
    "# Applying a decorator to a function\n",
    "@decorator_function\n",
    "def original_function(*args,**kwargs): \n",
    "    # code bloc"
   ]
  },
  {
   "cell_type": "code",
   "execution_count": 19,
   "id": "dfacb958",
   "metadata": {},
   "outputs": [
    {
     "name": "stdout",
     "output_type": "stream",
     "text": [
      "Wrapper function executed before greet\n",
      "Hello, John!\n"
     ]
    }
   ],
   "source": [
    "def decorator_function(original_function):\n",
    "    def wrapper_function(*args, **kwargs):\n",
    "        print(f'Wrapper function executed before {original_function.__name__}')\n",
    "        return original_function(*args, **kwargs)\n",
    "    return wrapper_function\n",
    "\n",
    "# @decorator_function\n",
    "def greet(name):\n",
    "    print(f'Hello, {name}!')\n",
    "\n",
    "greet('John')\n"
   ]
  },
  {
   "cell_type": "code",
   "execution_count": 21,
   "id": "d2e62924",
   "metadata": {},
   "outputs": [
    {
     "name": "stdout",
     "output_type": "stream",
     "text": [
      "Wrapper function executed before greet\n",
      "Hello, John!\n"
     ]
    }
   ],
   "source": [
    "def decorator_function(original_function):\n",
    "    def wrapper_function(*args, **kwargs):\n",
    "        print(f'Wrapper function executed before {original_function.__name__}')\n",
    "        return original_function(*args, **kwargs)\n",
    "    return wrapper_function\n",
    "\n",
    "@decorator_function\n",
    "def greet(name):\n",
    "    print(f'Hello, {name}!')\n",
    "\n",
    "greet('John')"
   ]
  },
  {
   "cell_type": "markdown",
   "id": "e2d17fab",
   "metadata": {},
   "source": [
    "# Class"
   ]
  },
  {
   "cell_type": "code",
   "execution_count": 22,
   "id": "7f98c26f",
   "metadata": {},
   "outputs": [],
   "source": [
    "class MyClass:\n",
    "    x=5"
   ]
  },
  {
   "cell_type": "code",
   "execution_count": 23,
   "id": "70bacaab",
   "metadata": {},
   "outputs": [
    {
     "name": "stdout",
     "output_type": "stream",
     "text": [
      "<class '__main__.MyClass'>\n"
     ]
    }
   ],
   "source": [
    "print(MyClass)"
   ]
  },
  {
   "cell_type": "code",
   "execution_count": 24,
   "id": "0e7634de",
   "metadata": {},
   "outputs": [
    {
     "name": "stdout",
     "output_type": "stream",
     "text": [
      "5\n"
     ]
    }
   ],
   "source": [
    "p1=MyClass()\n",
    "print(p1.x)"
   ]
  },
  {
   "cell_type": "code",
   "execution_count": 25,
   "id": "9e8c2fc6",
   "metadata": {},
   "outputs": [],
   "source": [
    "class Person:\n",
    "    def __init__(self,name,age):\n",
    "        self.name=name\n",
    "        self.age=age\n",
    "        \n",
    "p1=Person(\"John\",36)"
   ]
  },
  {
   "cell_type": "code",
   "execution_count": 27,
   "id": "9f1b419f",
   "metadata": {},
   "outputs": [
    {
     "data": {
      "text/plain": [
       "'John'"
      ]
     },
     "execution_count": 27,
     "metadata": {},
     "output_type": "execute_result"
    }
   ],
   "source": [
    "p1.name"
   ]
  },
  {
   "cell_type": "code",
   "execution_count": 28,
   "id": "1da6c5bb",
   "metadata": {},
   "outputs": [
    {
     "data": {
      "text/plain": [
       "36"
      ]
     },
     "execution_count": 28,
     "metadata": {},
     "output_type": "execute_result"
    }
   ],
   "source": [
    "p1.age"
   ]
  },
  {
   "cell_type": "markdown",
   "id": "9813b3ef",
   "metadata": {
    "id": "YAjXxKiYFGer"
   },
   "source": [
    "**Python Inheritance**\n",
    "Parent class is the class being inherited from, also called base class.\n",
    "\n",
    "Child class is the class that inherits from another class, also called derived class."
   ]
  },
  {
   "cell_type": "code",
   "execution_count": 31,
   "id": "887b81e8",
   "metadata": {},
   "outputs": [],
   "source": [
    "class Person:\n",
    "    def __init__(self,fname,lname):\n",
    "        self.firstname=fname\n",
    "        self.lastname=lname\n",
    "    \n",
    "    def printname(self):\n",
    "        print(self.firstname,self.lastname)"
   ]
  },
  {
   "cell_type": "code",
   "execution_count": 32,
   "id": "3aea0cef",
   "metadata": {},
   "outputs": [
    {
     "name": "stdout",
     "output_type": "stream",
     "text": [
      "Sachin Saxena\n"
     ]
    }
   ],
   "source": [
    "#Use the Person class to create an object, \n",
    "# and then execute the printname method:\n",
    "\n",
    "x = Person(\"Sachin\", \"Saxena\")\n",
    "x.printname()"
   ]
  },
  {
   "cell_type": "code",
   "execution_count": 33,
   "id": "e7291d17",
   "metadata": {},
   "outputs": [],
   "source": [
    "#without passing any value to child class\n",
    "class Student(Person):\n",
    "  pass"
   ]
  },
  {
   "cell_type": "code",
   "execution_count": 34,
   "id": "e2e38660",
   "metadata": {},
   "outputs": [
    {
     "name": "stdout",
     "output_type": "stream",
     "text": [
      "Jyoti Verma\n"
     ]
    }
   ],
   "source": [
    "y = Student(\"Jyoti\", \"Verma\")\n",
    "y.printname()"
   ]
  },
  {
   "cell_type": "code",
   "execution_count": 36,
   "id": "05b1c3cd",
   "metadata": {},
   "outputs": [],
   "source": [
    "class Dog:\n",
    "    attr1=\"mammal\"\n",
    "    attr2=\"dog\"\n",
    "    \n",
    "    def fun(self):\n",
    "        print(\"I'm a \",self.attr1)\n",
    "        print(\"I'm a \",self.attr2)\n",
    "        "
   ]
  },
  {
   "cell_type": "code",
   "execution_count": 37,
   "id": "ef07e814",
   "metadata": {},
   "outputs": [],
   "source": [
    "# Driver code\n",
    "# Object instantiation\n",
    "Rodger = Dog()"
   ]
  },
  {
   "cell_type": "code",
   "execution_count": 38,
   "id": "faa21c3b",
   "metadata": {},
   "outputs": [
    {
     "name": "stdout",
     "output_type": "stream",
     "text": [
      "mammal\n",
      "I'm a  mammal\n",
      "I'm a  dog\n"
     ]
    }
   ],
   "source": [
    "# Accessing class attributes\n",
    "# and method through objects\n",
    "print(Rodger.attr1)\n",
    "Rodger.fun()"
   ]
  },
  {
   "cell_type": "code",
   "execution_count": 39,
   "id": "c01ce4f3",
   "metadata": {},
   "outputs": [
    {
     "name": "stdout",
     "output_type": "stream",
     "text": [
      "mammal\n",
      "I'm a  mammal\n",
      "I'm a  dog\n"
     ]
    }
   ],
   "source": [
    "dog1 = Dog()\n",
    "print(dog1.attr1)\n",
    "dog1.fun()"
   ]
  },
  {
   "cell_type": "code",
   "execution_count": 41,
   "id": "d4c22160",
   "metadata": {},
   "outputs": [
    {
     "name": "stdout",
     "output_type": "stream",
     "text": [
      "mammal\n",
      "I'm a  mammal\n",
      "I'm a  dog\n"
     ]
    }
   ],
   "source": [
    "dog2 = Dog()\n",
    "print(dog2.attr1)\n",
    "dog2.fun()"
   ]
  },
  {
   "cell_type": "code",
   "execution_count": null,
   "id": "a19059a3",
   "metadata": {},
   "outputs": [],
   "source": []
  },
  {
   "cell_type": "code",
   "execution_count": 42,
   "id": "19041aeb",
   "metadata": {},
   "outputs": [],
   "source": [
    "\n",
    "# A Sample class with init method\n",
    "class Person:\n",
    "   \n",
    "    # init method or constructor \n",
    "    def __init__(self, name):\n",
    "        self.name = name\n",
    "   \n",
    "    # Sample Method \n",
    "    def say_hi(self):\n",
    "        print('Hello, my name is', self.name)"
   ]
  },
  {
   "cell_type": "code",
   "execution_count": 43,
   "id": "fbbf9529",
   "metadata": {},
   "outputs": [
    {
     "name": "stdout",
     "output_type": "stream",
     "text": [
      "Hello, my name is Nikhil\n"
     ]
    }
   ],
   "source": [
    "p = Person('Nikhil')\n",
    "p.say_hi()"
   ]
  },
  {
   "cell_type": "code",
   "execution_count": 44,
   "id": "e273caf3",
   "metadata": {},
   "outputs": [
    {
     "name": "stdout",
     "output_type": "stream",
     "text": [
      "Hello, my name is Sachin\n"
     ]
    }
   ],
   "source": [
    "q = Person('Sachin')\n",
    "q.say_hi()"
   ]
  },
  {
   "cell_type": "code",
   "execution_count": 45,
   "id": "3b34661b",
   "metadata": {},
   "outputs": [
    {
     "name": "stdout",
     "output_type": "stream",
     "text": [
      "Rodger details:\n",
      "Rodger is a dog\n",
      "Breed:  Pug\n",
      "Color:  brown\n",
      "\n",
      "Buzo details:\n",
      "Buzo is a dog\n",
      "Breed:  Bulldog\n",
      "Color:  black\n",
      "\n",
      "Accessing class variable using class name\n",
      "dog\n"
     ]
    }
   ],
   "source": [
    "# Class for Dog\n",
    "class Dog:\n",
    "   \n",
    "    # Class Variable\n",
    "    animal = 'dog'            \n",
    "   \n",
    "    # The init method or constructor\n",
    "    def __init__(self, breed, color):\n",
    "     \n",
    "        # Instance Variable    \n",
    "        self.breed = breed\n",
    "        self.color = color       \n",
    "    \n",
    "# Objects of Dog class\n",
    "Rodger = Dog(\"Pug\", \"brown\")\n",
    "Buzo = Dog(\"Bulldog\", \"black\")\n",
    " \n",
    "print('Rodger details:')  \n",
    "print('Rodger is a', Rodger.animal)\n",
    "print('Breed: ', Rodger.breed)\n",
    "print('Color: ', Rodger.color)\n",
    " \n",
    "print('\\nBuzo details:')  \n",
    "print('Buzo is a', Buzo.animal)\n",
    "print('Breed: ', Buzo.breed)\n",
    "print('Color: ', Buzo.color)\n",
    " \n",
    "# Class variables can be accessed using class\n",
    "# name also\n",
    "print(\"\\nAccessing class variable using class name\")\n",
    "print(Dog.animal)  "
   ]
  },
  {
   "cell_type": "markdown",
   "id": "95055886",
   "metadata": {
    "id": "uK0jN3UZJy78"
   },
   "source": [
    "Constructors in Python"
   ]
  },
  {
   "cell_type": "markdown",
   "id": "f70e6ce1",
   "metadata": {
    "id": "DLVBL4BhJ3kF"
   },
   "source": [
    "**default constructor:** The default constructor is a simple constructor which doesn’t accept any arguments. Its definition has only one argument which is a reference to the instance being constructed.\n",
    "**parameterized constructor:** constructor with parameters is known as parameterized constructor. The parameterized constructor takes its first argument as a reference to the instance being constructed known as self and the rest of the arguments are provided by the programmer."
   ]
  },
  {
   "cell_type": "code",
   "execution_count": 47,
   "id": "b5673388",
   "metadata": {},
   "outputs": [
    {
     "name": "stdout",
     "output_type": "stream",
     "text": [
      "I'm inside GeekforGeeks\n"
     ]
    }
   ],
   "source": [
    "#Example of default constructor : \n",
    "class GeekforGeeks:\n",
    " \n",
    "    # default constructor\n",
    "    def __init__(self):\n",
    "        self.geek = \"I'm inside GeekforGeeks\"\n",
    " \n",
    "    # a method for printing data members\n",
    "    def print_Geek(self):\n",
    "        print(self.geek)\n",
    " \n",
    " \n",
    "# creating object of the class\n",
    "obj = GeekforGeeks()\n",
    " \n",
    "# calling the instance method using the object obj\n",
    "obj.print_Geek()"
   ]
  },
  {
   "cell_type": "code",
   "execution_count": 48,
   "id": "8f5fd24d",
   "metadata": {},
   "outputs": [
    {
     "name": "stdout",
     "output_type": "stream",
     "text": [
      "First number = 1000\n",
      "Second number = 2000\n",
      "Addition of two numbers = 3000\n"
     ]
    }
   ],
   "source": [
    "#Example of the parameterized constructor : \n",
    "class Addition:\n",
    "    first = 0\n",
    "    second = 0\n",
    "    answer = 0\n",
    "     \n",
    "    # parameterized constructor\n",
    "    def __init__(self, f, s):\n",
    "        self.first = f\n",
    "        self.second = s\n",
    "     \n",
    "    def display(self):\n",
    "        print(\"First number = \" + str(self.first))\n",
    "        print(\"Second number = \" + str(self.second))\n",
    "        print(\"Addition of two numbers = \" + str(self.answer))\n",
    " \n",
    "    def calculate(self):\n",
    "        self.answer = self.first + self.second\n",
    " \n",
    "# creating object of the class\n",
    "# this will invoke parameterized constructor\n",
    "obj = Addition(1000, 2000)\n",
    " \n",
    "# perform Addition\n",
    "obj.calculate()\n",
    " \n",
    "# display result\n",
    "obj.display()"
   ]
  },
  {
   "cell_type": "markdown",
   "id": "9c814481",
   "metadata": {
    "id": "oLcWhQu3LQko"
   },
   "source": [
    "Destructors are called when an object gets destroyed. In Python, destructors are not needed as much needed in C++ because Python has a garbage collector that handles memory management automatically.\n",
    "The __del__() method is a known as a destructor method in Python. It is called when all references to the object have been deleted i.e when an object is garbage collected."
   ]
  },
  {
   "cell_type": "code",
   "execution_count": 51,
   "id": "9b90be13",
   "metadata": {},
   "outputs": [
    {
     "name": "stdout",
     "output_type": "stream",
     "text": [
      "Employee created.\n"
     ]
    }
   ],
   "source": [
    "# Python program to illustrate destructor\n",
    "class Employee:\n",
    "  \n",
    "    # Initializing\n",
    "    def __init__(self):\n",
    "        print('Employee created.')\n",
    "  \n",
    "    # Deleting (Calling destructor)\n",
    "    def __del__(self):\n",
    "        print('Destructor called, Employee deleted.')\n",
    "  \n",
    "obj = Employee()\n",
    "# del obj"
   ]
  },
  {
   "cell_type": "code",
   "execution_count": 56,
   "id": "3a6c4a26",
   "metadata": {},
   "outputs": [],
   "source": [
    "del obj"
   ]
  },
  {
   "cell_type": "code",
   "execution_count": 57,
   "id": "4ee7e45e",
   "metadata": {},
   "outputs": [
    {
     "ename": "NameError",
     "evalue": "name 'obj' is not defined",
     "output_type": "error",
     "traceback": [
      "\u001b[1;31m---------------------------------------------------------------------------\u001b[0m",
      "\u001b[1;31mNameError\u001b[0m                                 Traceback (most recent call last)",
      "\u001b[1;32m~\\AppData\\Local\\Temp\\ipykernel_17444\\3358550555.py\u001b[0m in \u001b[0;36m<module>\u001b[1;34m\u001b[0m\n\u001b[1;32m----> 1\u001b[1;33m \u001b[0mprint\u001b[0m\u001b[1;33m(\u001b[0m\u001b[0mobj\u001b[0m\u001b[1;33m)\u001b[0m\u001b[1;33m\u001b[0m\u001b[1;33m\u001b[0m\u001b[0m\n\u001b[0m",
      "\u001b[1;31mNameError\u001b[0m: name 'obj' is not defined"
     ]
    }
   ],
   "source": [
    "print(obj)"
   ]
  },
  {
   "cell_type": "code",
   "execution_count": null,
   "id": "ed1d6db2",
   "metadata": {},
   "outputs": [],
   "source": []
  },
  {
   "cell_type": "code",
   "execution_count": null,
   "id": "88912feb",
   "metadata": {},
   "outputs": [],
   "source": []
  },
  {
   "cell_type": "code",
   "execution_count": null,
   "id": "3ba686c2",
   "metadata": {},
   "outputs": [],
   "source": []
  },
  {
   "cell_type": "code",
   "execution_count": null,
   "id": "da7be424",
   "metadata": {},
   "outputs": [],
   "source": []
  },
  {
   "cell_type": "code",
   "execution_count": null,
   "id": "1622e7c6",
   "metadata": {},
   "outputs": [],
   "source": []
  },
  {
   "cell_type": "code",
   "execution_count": null,
   "id": "db19f485",
   "metadata": {},
   "outputs": [],
   "source": []
  }
 ],
 "metadata": {
  "kernelspec": {
   "display_name": "Python 3 (ipykernel)",
   "language": "python",
   "name": "python3"
  },
  "language_info": {
   "codemirror_mode": {
    "name": "ipython",
    "version": 3
   },
   "file_extension": ".py",
   "mimetype": "text/x-python",
   "name": "python",
   "nbconvert_exporter": "python",
   "pygments_lexer": "ipython3",
   "version": "3.9.13"
  }
 },
 "nbformat": 4,
 "nbformat_minor": 5
}
