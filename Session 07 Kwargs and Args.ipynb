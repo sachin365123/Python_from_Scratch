{
 "cells": [
  {
   "cell_type": "markdown",
   "id": "3db82781",
   "metadata": {
    "id": "xnmlUvFedGgq"
   },
   "source": [
    "Functions with one default argument\n",
    "In the previous chapter, you've learned to define functions with more than one parameter and then calling those functions by passing the required number of arguments. In the last video, Hugo built on this idea by showing you how to define functions with default arguments. You will practice that skill in this exercise by writing a function that uses a default argument and then calling the function a couple of times."
   ]
  },
  {
   "cell_type": "code",
   "execution_count": 3,
   "id": "013911e9",
   "metadata": {},
   "outputs": [
    {
     "data": {
      "text/plain": [
       "'sachin sachin sachin sachin sachin sachin sachin sachin sachin sachin !!!'"
      ]
     },
     "execution_count": 3,
     "metadata": {},
     "output_type": "execute_result"
    }
   ],
   "source": [
    "echo_word =\"sachin \"*10\n",
    "shout_word = echo_word + '!!!'\n",
    "shout_word"
   ]
  },
  {
   "cell_type": "code",
   "execution_count": 4,
   "id": "7df37236",
   "metadata": {},
   "outputs": [],
   "source": [
    "# Define shout_echo\n",
    "def shout_echo(word1,echo=1):\n",
    "    echo_word = word1*echo\n",
    "    shout_word = echo_word + '!!!'\n",
    "    return shout_word  "
   ]
  },
  {
   "cell_type": "code",
   "execution_count": 5,
   "id": "b6328657",
   "metadata": {},
   "outputs": [
    {
     "data": {
      "text/plain": [
       "'Hey!!!'"
      ]
     },
     "execution_count": 5,
     "metadata": {},
     "output_type": "execute_result"
    }
   ],
   "source": [
    "# Call shout_echo() with \"Hey\": no_echo\n",
    "no_echo = shout_echo(\"Hey\")\n",
    "no_echo"
   ]
  },
  {
   "cell_type": "code",
   "execution_count": 9,
   "id": "764df99c",
   "metadata": {},
   "outputs": [
    {
     "data": {
      "text/plain": [
       "'Hey Hey Hey Hey Hey !!!'"
      ]
     },
     "execution_count": 9,
     "metadata": {},
     "output_type": "execute_result"
    }
   ],
   "source": [
    "# Call shout_echo() with \"Hey\": no_echo\n",
    "with_echo = shout_echo(\"Hey \",echo=5)\n",
    "with_echo"
   ]
  },
  {
   "cell_type": "code",
   "execution_count": 10,
   "id": "ccc081e4",
   "metadata": {},
   "outputs": [
    {
     "data": {
      "text/plain": [
       "'Hey Hey Hey Hey Hey !!!'"
      ]
     },
     "execution_count": 10,
     "metadata": {},
     "output_type": "execute_result"
    }
   ],
   "source": [
    "# Call shout_echo() with \"Hey\": no_echo\n",
    "with_echo = shout_echo(\"Hey \",5)\n",
    "with_echo"
   ]
  },
  {
   "cell_type": "code",
   "execution_count": 11,
   "id": "868e602a",
   "metadata": {},
   "outputs": [],
   "source": [
    "# Define shout_echo\n",
    "def shout_echo(word1,echo=1,intense=False):\n",
    "    echo_word = word1 * echo\n",
    "\n",
    "    if intense is True:\n",
    "\n",
    "        echo_word_new = echo_word.upper() + '!!!'  \n",
    "    else:\n",
    "\n",
    "        echo_word_new = echo_word + '!!!'\n",
    "    return echo_word_new"
   ]
  },
  {
   "cell_type": "code",
   "execution_count": 13,
   "id": "f26f2c2a",
   "metadata": {},
   "outputs": [
    {
     "data": {
      "text/plain": [
       "'TECHLANG IS TEACHING DATA SCIENCETECHLANG IS TEACHING DATA SCIENCETECHLANG IS TEACHING DATA SCIENCETECHLANG IS TEACHING DATA SCIENCETECHLANG IS TEACHING DATA SCIENCE!!!'"
      ]
     },
     "execution_count": 13,
     "metadata": {},
     "output_type": "execute_result"
    }
   ],
   "source": [
    "# Call shout_echo() with \"Hey\", echo=5 and intense=True: with_big_echo\n",
    "with_big_echo = shout_echo(\"techlang is teaching data science\",5,intense=True)\n",
    "with_big_echo"
   ]
  },
  {
   "cell_type": "code",
   "execution_count": 14,
   "id": "dda7b44c",
   "metadata": {},
   "outputs": [
    {
     "name": "stdout",
     "output_type": "stream",
     "text": [
      "HEY!!!\n"
     ]
    }
   ],
   "source": [
    "# Call shout_echo() with \"Hey\" and intense=True: big_no_echo\n",
    "big_no_echo = shout_echo(\"Hey\",intense=True)\n",
    "\n",
    "# Print values\n",
    "\n",
    "print(big_no_echo)"
   ]
  },
  {
   "cell_type": "code",
   "execution_count": 15,
   "id": "6d6f61f7",
   "metadata": {},
   "outputs": [
    {
     "data": {
      "text/plain": [
       "'MACHINE LEARNING'"
      ]
     },
     "execution_count": 15,
     "metadata": {},
     "output_type": "execute_result"
    }
   ],
   "source": [
    "\"machine learning\".upper()"
   ]
  },
  {
   "cell_type": "markdown",
   "id": "bec38f89",
   "metadata": {
    "id": "hl4Gfzb7czeJ"
   },
   "source": [
    "Functions with variable-length arguments (*args)\n",
    "Flexible arguments enable you to pass a variable number of arguments to a function. In this exercise, you will practice defining a function that accepts a variable number of string arguments.\n",
    "\n",
    "The function you will define is gibberish() which can accept a variable number of string values. Its return value is a single string composed of all the string arguments concatenated together in the order they were passed to the function call. You will call the function with a single string argument and see how the output changes with another call using more than one string argument. Recall from the previous video that, within the function definition, args is a tuple."
   ]
  },
  {
   "cell_type": "code",
   "execution_count": 16,
   "id": "799bfb2c",
   "metadata": {},
   "outputs": [],
   "source": [
    "# Define gibberish\n",
    "def gibberish(*args):\n",
    "    # Initialize an empty string: hodgepodge\n",
    "    hodgepodge=''    \n",
    "    # Concatenate the strings in args\n",
    "    for word in args:\n",
    "        hodgepodge += word\n",
    "    return hodgepodge    \n",
    "    \n",
    "    "
   ]
  },
  {
   "cell_type": "code",
   "execution_count": 18,
   "id": "b0e5f4d0",
   "metadata": {},
   "outputs": [
    {
     "data": {
      "text/plain": [
       "'Sachin'"
      ]
     },
     "execution_count": 18,
     "metadata": {},
     "output_type": "execute_result"
    }
   ],
   "source": [
    "# Call gibberish() with one string: one_word\n",
    "one_word = gibberish(\"Sachin\")\n",
    "one_word"
   ]
  },
  {
   "cell_type": "code",
   "execution_count": 20,
   "id": "98999545",
   "metadata": {},
   "outputs": [
    {
     "data": {
      "text/plain": [
       "'luke leia han obi darth luke leia han obi darth '"
      ]
     },
     "execution_count": 20,
     "metadata": {},
     "output_type": "execute_result"
    }
   ],
   "source": [
    "# Call gibberish() with five strings: many_words\n",
    "many_words = gibberish(\"luke \", \"leia \", \"han \", \"obi \", \"darth \",\"luke \", \"leia \", \"han \", \"obi \", \"darth \")\n",
    "many_words"
   ]
  },
  {
   "cell_type": "markdown",
   "id": "4163671b",
   "metadata": {
    "id": "FXRu7cqmc5Rr"
   },
   "source": [
    "Functions with variable-length keyword arguments (**kwargs)\n",
    "Let's push further on what you've learned about flexible arguments - you've used *args, you're now going to use **kwargs! What makes **kwargs different is that it allows you to pass a variable number of keyword arguments to functions. Recall from the previous video that, within the function definition, kwargs is a dictionary.\n",
    "\n",
    "To understand this idea better, you're going to use **kwargs in this exercise to define a function that accepts a variable number of keyword arguments. The function simulates a simple status report system that prints out the status of a character in a movie."
   ]
  },
  {
   "cell_type": "code",
   "execution_count": 21,
   "id": "a30e5eb7",
   "metadata": {},
   "outputs": [],
   "source": [
    "# Define report_status\n",
    "def report_status(**kwargs):\n",
    "    print(\"\\nBEGIN: REPORT\\n\")\n",
    "    for key, value in kwargs.items():\n",
    "        print(key + \": \" + value)  \n",
    "    print(\"\\nEND REPORT\")  \n",
    "    "
   ]
  },
  {
   "cell_type": "code",
   "execution_count": 22,
   "id": "4684c0d2",
   "metadata": {},
   "outputs": [
    {
     "name": "stdout",
     "output_type": "stream",
     "text": [
      "\n",
      "BEGIN: REPORT\n",
      "\n",
      "name: Sachin\n",
      "affiliation: Tutor\n",
      "status: Online\n",
      "\n",
      "END REPORT\n"
     ]
    }
   ],
   "source": [
    "# First call to report_status()\n",
    "report_status(name=\"Sachin\", affiliation='Tutor', status='Online')"
   ]
  },
  {
   "cell_type": "code",
   "execution_count": 27,
   "id": "6afcf548",
   "metadata": {},
   "outputs": [
    {
     "name": "stdout",
     "output_type": "stream",
     "text": [
      "\n",
      "BEGIN: REPORT\n",
      "\n",
      "sirname: Dr\n",
      "name: anakin\n",
      "affiliation: sith lord\n",
      "status: deceased\n",
      "age: 31\n",
      "contact: 890960\n",
      "address: New Delhi\n",
      "nationality: Indian\n",
      "\n",
      "END REPORT\n"
     ]
    }
   ],
   "source": [
    "report_status(sirname=\"Dr\",name=\"anakin\", affiliation=\"sith lord\" ,status=\"deceased\",age=\"31\",contact=\"890960\",address='New Delhi',nationality=\"Indian\")\n",
    "# Second call to report_status()"
   ]
  },
  {
   "cell_type": "code",
   "execution_count": null,
   "id": "933b7a8a",
   "metadata": {},
   "outputs": [],
   "source": []
  }
 ],
 "metadata": {
  "kernelspec": {
   "display_name": "Python 3 (ipykernel)",
   "language": "python",
   "name": "python3"
  },
  "language_info": {
   "codemirror_mode": {
    "name": "ipython",
    "version": 3
   },
   "file_extension": ".py",
   "mimetype": "text/x-python",
   "name": "python",
   "nbconvert_exporter": "python",
   "pygments_lexer": "ipython3",
   "version": "3.9.13"
  }
 },
 "nbformat": 4,
 "nbformat_minor": 5
}
