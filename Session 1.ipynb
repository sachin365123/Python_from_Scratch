{
 "cells": [
  {
   "cell_type": "markdown",
   "id": "1fb658ee",
   "metadata": {},
   "source": [
    "## Variables and data types"
   ]
  },
  {
   "cell_type": "code",
   "execution_count": null,
   "id": "f80a6347",
   "metadata": {},
   "outputs": [],
   "source": [
    "# Variable declaration\n",
    "# varaible_name=value"
   ]
  },
  {
   "cell_type": "code",
   "execution_count": 1,
   "id": "78944087",
   "metadata": {},
   "outputs": [],
   "source": [
    "# Basic data types\n",
    "integer=5\n",
    "float_number=10.5\n",
    "string=\"Hello Techlang\"\n",
    "boolean=True\n",
    "none=None"
   ]
  },
  {
   "cell_type": "code",
   "execution_count": 2,
   "id": "b34cc08c",
   "metadata": {},
   "outputs": [
    {
     "data": {
      "text/plain": [
       "5"
      ]
     },
     "execution_count": 2,
     "metadata": {},
     "output_type": "execute_result"
    }
   ],
   "source": [
    "integer"
   ]
  },
  {
   "cell_type": "code",
   "execution_count": 3,
   "id": "0d0f1f29",
   "metadata": {},
   "outputs": [
    {
     "data": {
      "text/plain": [
       "10.5"
      ]
     },
     "execution_count": 3,
     "metadata": {},
     "output_type": "execute_result"
    }
   ],
   "source": [
    "float_number"
   ]
  },
  {
   "cell_type": "markdown",
   "id": "b7394ab1",
   "metadata": {},
   "source": [
    "# Arithmetic Operators"
   ]
  },
  {
   "cell_type": "code",
   "execution_count": 4,
   "id": "38c10bac",
   "metadata": {},
   "outputs": [
    {
     "data": {
      "text/plain": [
       "7"
      ]
     },
     "execution_count": 4,
     "metadata": {},
     "output_type": "execute_result"
    }
   ],
   "source": [
    "addition=5+2\n",
    "addition"
   ]
  },
  {
   "cell_type": "code",
   "execution_count": 5,
   "id": "9cce8c85",
   "metadata": {},
   "outputs": [
    {
     "data": {
      "text/plain": [
       "3"
      ]
     },
     "execution_count": 5,
     "metadata": {},
     "output_type": "execute_result"
    }
   ],
   "source": [
    "substract=5-2\n",
    "substract"
   ]
  },
  {
   "cell_type": "code",
   "execution_count": 6,
   "id": "66474112",
   "metadata": {},
   "outputs": [
    {
     "data": {
      "text/plain": [
       "10"
      ]
     },
     "execution_count": 6,
     "metadata": {},
     "output_type": "execute_result"
    }
   ],
   "source": [
    "multiply=5*2\n",
    "multiply"
   ]
  },
  {
   "cell_type": "code",
   "execution_count": 7,
   "id": "53a6b49f",
   "metadata": {},
   "outputs": [
    {
     "data": {
      "text/plain": [
       "2.5"
      ]
     },
     "execution_count": 7,
     "metadata": {},
     "output_type": "execute_result"
    }
   ],
   "source": [
    "division=5/2\n",
    "division"
   ]
  },
  {
   "cell_type": "code",
   "execution_count": 9,
   "id": "8ef2536f",
   "metadata": {},
   "outputs": [
    {
     "data": {
      "text/plain": [
       "81"
      ]
     },
     "execution_count": 9,
     "metadata": {},
     "output_type": "execute_result"
    }
   ],
   "source": [
    "exponential=3**4\n",
    "exponential"
   ]
  },
  {
   "cell_type": "code",
   "execution_count": 12,
   "id": "ed989de0",
   "metadata": {},
   "outputs": [
    {
     "data": {
      "text/plain": [
       "6"
      ]
     },
     "execution_count": 12,
     "metadata": {},
     "output_type": "execute_result"
    }
   ],
   "source": [
    "floor_division=20//3\n",
    "floor_division"
   ]
  },
  {
   "cell_type": "code",
   "execution_count": 15,
   "id": "7c28f0de",
   "metadata": {},
   "outputs": [
    {
     "data": {
      "text/plain": [
       "6"
      ]
     },
     "execution_count": 15,
     "metadata": {},
     "output_type": "execute_result"
    }
   ],
   "source": [
    "modulus=20%7\n",
    "modulus"
   ]
  },
  {
   "cell_type": "code",
   "execution_count": 19,
   "id": "2e41616b",
   "metadata": {},
   "outputs": [
    {
     "data": {
      "text/plain": [
       "True"
      ]
     },
     "execution_count": 19,
     "metadata": {},
     "output_type": "execute_result"
    }
   ],
   "source": [
    "# Logical opeartors\n",
    "and_operator=True and True\n",
    "and_operator"
   ]
  },
  {
   "cell_type": "code",
   "execution_count": 20,
   "id": "2c750b47",
   "metadata": {},
   "outputs": [
    {
     "data": {
      "text/plain": [
       "True"
      ]
     },
     "execution_count": 20,
     "metadata": {},
     "output_type": "execute_result"
    }
   ],
   "source": [
    "or_operator=True or True\n",
    "or_operator"
   ]
  },
  {
   "cell_type": "code",
   "execution_count": 22,
   "id": "fa542aab",
   "metadata": {},
   "outputs": [
    {
     "data": {
      "text/plain": [
       "True"
      ]
     },
     "execution_count": 22,
     "metadata": {},
     "output_type": "execute_result"
    }
   ],
   "source": [
    "not_operator=not False\n",
    "not_operator"
   ]
  },
  {
   "cell_type": "code",
   "execution_count": 24,
   "id": "aa34380e",
   "metadata": {},
   "outputs": [
    {
     "data": {
      "text/plain": [
       "False"
      ]
     },
     "execution_count": 24,
     "metadata": {},
     "output_type": "execute_result"
    }
   ],
   "source": [
    "# Compartive operators\n",
    "greater_than=21<3\n",
    "greater_than"
   ]
  },
  {
   "cell_type": "code",
   "execution_count": 26,
   "id": "97519224",
   "metadata": {},
   "outputs": [
    {
     "data": {
      "text/plain": [
       "True"
      ]
     },
     "execution_count": 26,
     "metadata": {},
     "output_type": "execute_result"
    }
   ],
   "source": [
    "less_than=21>3\n",
    "less_than"
   ]
  },
  {
   "cell_type": "markdown",
   "id": "4b7f594a",
   "metadata": {},
   "source": [
    "# Conditional Statements"
   ]
  },
  {
   "cell_type": "code",
   "execution_count": null,
   "id": "c2428b4f",
   "metadata": {},
   "outputs": [],
   "source": []
  },
  {
   "cell_type": "code",
   "execution_count": 28,
   "id": "db1a05ef",
   "metadata": {},
   "outputs": [
    {
     "name": "stdout",
     "output_type": "stream",
     "text": [
      "Adult\n",
      "Sachin\n"
     ]
    }
   ],
   "source": [
    "# if statement\n",
    "age = 19\n",
    "if age>18:\n",
    "#     indentation\n",
    "    print(\"Adult\")\n",
    "# print(\"Sachin\")"
   ]
  },
  {
   "cell_type": "code",
   "execution_count": 36,
   "id": "7bc393f3",
   "metadata": {},
   "outputs": [
    {
     "data": {
      "text/plain": [
       "38"
      ]
     },
     "execution_count": 36,
     "metadata": {},
     "output_type": "execute_result"
    }
   ],
   "source": [
    "age"
   ]
  },
  {
   "cell_type": "code",
   "execution_count": 37,
   "id": "4f9461f9",
   "metadata": {},
   "outputs": [
    {
     "name": "stdout",
     "output_type": "stream",
     "text": [
      "Adult\n"
     ]
    }
   ],
   "source": [
    "# if-else statement\n",
    "\n",
    "if age>18:\n",
    "    print(\"Adult\")\n",
    "else:\n",
    "    print(\"Not Adult\")"
   ]
  },
  {
   "cell_type": "code",
   "execution_count": 40,
   "id": "b1c8b01d",
   "metadata": {},
   "outputs": [
    {
     "name": "stdout",
     "output_type": "stream",
     "text": [
      "Enter your age...: 65\n"
     ]
    }
   ],
   "source": [
    "age=int(input(\"Enter your age...: \"))"
   ]
  },
  {
   "cell_type": "code",
   "execution_count": 41,
   "id": "647dc9e1",
   "metadata": {},
   "outputs": [
    {
     "name": "stdout",
     "output_type": "stream",
     "text": [
      "Senior Citizen\n"
     ]
    }
   ],
   "source": [
    "# if-elif-else statement\n",
    "\n",
    "if age>60:\n",
    "    print(\"Senior Citizen\")\n",
    "elif age>18 and age<60:\n",
    "    print(\"Young\")\n",
    "else:\n",
    "    print(\"Not Adult\")"
   ]
  },
  {
   "cell_type": "markdown",
   "id": "b8001925",
   "metadata": {},
   "source": [
    "# Loops"
   ]
  },
  {
   "cell_type": "code",
   "execution_count": 48,
   "id": "440fa72d",
   "metadata": {},
   "outputs": [
    {
     "name": "stdout",
     "output_type": "stream",
     "text": [
      "1 Sachin\n",
      "2 Sachin\n",
      "3 Sachin\n",
      "4 Sachin\n",
      "5 Sachin\n",
      "6 Sachin\n",
      "7 Sachin\n",
      "8 Sachin\n",
      "9 Sachin\n",
      "10 Sachin\n",
      "11 Sachin\n",
      "12 Sachin\n",
      "13 Sachin\n",
      "14 Sachin\n",
      "15 Sachin\n",
      "16 Sachin\n",
      "17 Sachin\n",
      "18 Sachin\n",
      "19 Sachin\n",
      "20 Sachin\n",
      "21 Sachin\n",
      "22 Sachin\n",
      "23 Sachin\n",
      "24 Sachin\n",
      "25 Sachin\n"
     ]
    }
   ],
   "source": [
    "for i in range(25):\n",
    "    print(i+1, \"Sachin\")\n"
   ]
  },
  {
   "cell_type": "code",
   "execution_count": 53,
   "id": "5a290faa",
   "metadata": {},
   "outputs": [
    {
     "name": "stdout",
     "output_type": "stream",
     "text": [
      "1 Hello Techlang !!!\n",
      "2 Hello Techlang !!!\n",
      "3 Hello Techlang !!!\n",
      "4 Hello Techlang !!!\n",
      "5 Hello Techlang !!!\n",
      "6 Hello Techlang !!!\n",
      "7 Hello Techlang !!!\n",
      "8 Hello Techlang !!!\n",
      "9 Hello Techlang !!!\n",
      "10 Hello Techlang !!!\n",
      "11 Sachin Saxena !!!\n"
     ]
    }
   ],
   "source": [
    "# while condition\n",
    "i=0\n",
    "\n",
    "while i<10:\n",
    "    print(i+1,\"Hello Techlang !!!\")\n",
    "    \n",
    "    i=i+1\n",
    "print(i+1,\"Sachin Saxena !!!\")"
   ]
  },
  {
   "cell_type": "code",
   "execution_count": 57,
   "id": "33607b4c",
   "metadata": {},
   "outputs": [],
   "source": [
    "# Function definition\n",
    "def jyothi():\n",
    "    print(\"First Session of DS\")\n",
    "    print(\"Sachin Saxena !!!\")"
   ]
  },
  {
   "cell_type": "code",
   "execution_count": 58,
   "id": "52f2fcde",
   "metadata": {},
   "outputs": [
    {
     "name": "stdout",
     "output_type": "stream",
     "text": [
      "First Session of DS\n",
      "Sachin Saxena !!!\n"
     ]
    }
   ],
   "source": [
    "# Function calling\n",
    "jyothi()\n"
   ]
  },
  {
   "cell_type": "code",
   "execution_count": 61,
   "id": "06d7d0f9",
   "metadata": {},
   "outputs": [],
   "source": [
    "# Function definition\n",
    "def sachin(x):\n",
    "    x=x+15\n",
    "    x=x+200\n",
    "    return x"
   ]
  },
  {
   "cell_type": "code",
   "execution_count": 62,
   "id": "566df395",
   "metadata": {},
   "outputs": [
    {
     "data": {
      "text/plain": [
       "240"
      ]
     },
     "execution_count": 62,
     "metadata": {},
     "output_type": "execute_result"
    }
   ],
   "source": [
    "# Function calling\n",
    "sachin(25)"
   ]
  },
  {
   "cell_type": "code",
   "execution_count": 63,
   "id": "90721b4c",
   "metadata": {},
   "outputs": [],
   "source": [
    "# Function definition\n",
    "def sachin(x,y):\n",
    "    x=x+15\n",
    "    y=y+200\n",
    "    return x,y"
   ]
  },
  {
   "cell_type": "code",
   "execution_count": 65,
   "id": "0643a78b",
   "metadata": {},
   "outputs": [
    {
     "data": {
      "text/plain": [
       "(40, 218)"
      ]
     },
     "execution_count": 65,
     "metadata": {},
     "output_type": "execute_result"
    }
   ],
   "source": [
    "# Function calling\n",
    "sachin(25,18)"
   ]
  },
  {
   "cell_type": "markdown",
   "id": "0e9e7bad",
   "metadata": {},
   "source": [
    "# List"
   ]
  },
  {
   "cell_type": "code",
   "execution_count": null,
   "id": "23880e13",
   "metadata": {},
   "outputs": [],
   "source": [
    "# List"
   ]
  },
  {
   "cell_type": "code",
   "execution_count": null,
   "id": "ac29156c",
   "metadata": {},
   "outputs": [],
   "source": []
  },
  {
   "cell_type": "code",
   "execution_count": null,
   "id": "8700cf2a",
   "metadata": {},
   "outputs": [],
   "source": []
  },
  {
   "cell_type": "code",
   "execution_count": null,
   "id": "727c075f",
   "metadata": {},
   "outputs": [],
   "source": []
  },
  {
   "cell_type": "code",
   "execution_count": null,
   "id": "db37c2ed",
   "metadata": {},
   "outputs": [],
   "source": []
  },
  {
   "cell_type": "code",
   "execution_count": null,
   "id": "60a9c0bf",
   "metadata": {},
   "outputs": [],
   "source": []
  },
  {
   "cell_type": "code",
   "execution_count": null,
   "id": "2034b099",
   "metadata": {},
   "outputs": [],
   "source": []
  },
  {
   "cell_type": "code",
   "execution_count": null,
   "id": "590ec743",
   "metadata": {},
   "outputs": [],
   "source": []
  },
  {
   "cell_type": "code",
   "execution_count": null,
   "id": "93b603cb",
   "metadata": {},
   "outputs": [],
   "source": []
  },
  {
   "cell_type": "code",
   "execution_count": null,
   "id": "a8a684a1",
   "metadata": {},
   "outputs": [],
   "source": []
  },
  {
   "cell_type": "code",
   "execution_count": null,
   "id": "7e50cf18",
   "metadata": {},
   "outputs": [],
   "source": []
  },
  {
   "cell_type": "code",
   "execution_count": null,
   "id": "08e6438a",
   "metadata": {},
   "outputs": [],
   "source": []
  },
  {
   "cell_type": "code",
   "execution_count": null,
   "id": "0b307cf1",
   "metadata": {},
   "outputs": [],
   "source": []
  },
  {
   "cell_type": "code",
   "execution_count": null,
   "id": "22eea2d4",
   "metadata": {},
   "outputs": [],
   "source": []
  },
  {
   "cell_type": "code",
   "execution_count": null,
   "id": "811c1e53",
   "metadata": {},
   "outputs": [],
   "source": []
  },
  {
   "cell_type": "code",
   "execution_count": null,
   "id": "05754c75",
   "metadata": {},
   "outputs": [],
   "source": []
  },
  {
   "cell_type": "code",
   "execution_count": null,
   "id": "b4895386",
   "metadata": {},
   "outputs": [],
   "source": []
  },
  {
   "cell_type": "code",
   "execution_count": null,
   "id": "4cc17eed",
   "metadata": {},
   "outputs": [],
   "source": []
  },
  {
   "cell_type": "code",
   "execution_count": null,
   "id": "658b9fde",
   "metadata": {},
   "outputs": [],
   "source": []
  },
  {
   "cell_type": "code",
   "execution_count": null,
   "id": "2ec41399",
   "metadata": {},
   "outputs": [],
   "source": []
  },
  {
   "cell_type": "code",
   "execution_count": null,
   "id": "d1deeb62",
   "metadata": {},
   "outputs": [],
   "source": []
  },
  {
   "cell_type": "code",
   "execution_count": null,
   "id": "044421b9",
   "metadata": {},
   "outputs": [],
   "source": []
  },
  {
   "cell_type": "code",
   "execution_count": null,
   "id": "ab77e772",
   "metadata": {},
   "outputs": [],
   "source": []
  }
 ],
 "metadata": {
  "kernelspec": {
   "display_name": "Python 3 (ipykernel)",
   "language": "python",
   "name": "python3"
  },
  "language_info": {
   "codemirror_mode": {
    "name": "ipython",
    "version": 3
   },
   "file_extension": ".py",
   "mimetype": "text/x-python",
   "name": "python",
   "nbconvert_exporter": "python",
   "pygments_lexer": "ipython3",
   "version": "3.9.13"
  }
 },
 "nbformat": 4,
 "nbformat_minor": 5
}
