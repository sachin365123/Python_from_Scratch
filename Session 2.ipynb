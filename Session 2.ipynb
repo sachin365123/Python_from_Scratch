{
 "cells": [
  {
   "cell_type": "markdown",
   "id": "0e9e7bad",
   "metadata": {},
   "source": [
    "# List"
   ]
  },
  {
   "cell_type": "code",
   "execution_count": 2,
   "id": "162e8889",
   "metadata": {},
   "outputs": [
    {
     "data": {
      "text/plain": [
       "['Apple', 'Chapaati', 'Banana', 'Achar', 5, 75.8]"
      ]
     },
     "execution_count": 2,
     "metadata": {},
     "output_type": "execute_result"
    }
   ],
   "source": [
    "# List declaration\n",
    "lunch_box=[\"Apple\",\"Chapaati\",\"Banana\",\"Achar\",5,75.8]\n",
    "lunch_box"
   ]
  },
  {
   "cell_type": "code",
   "execution_count": 4,
   "id": "153912c7",
   "metadata": {},
   "outputs": [
    {
     "data": {
      "text/plain": [
       "'Banana'"
      ]
     },
     "execution_count": 4,
     "metadata": {},
     "output_type": "execute_result"
    }
   ],
   "source": [
    "# Access the item\n",
    "lunch_box[2]"
   ]
  },
  {
   "cell_type": "code",
   "execution_count": 5,
   "id": "4ead0bfe",
   "metadata": {},
   "outputs": [
    {
     "data": {
      "text/plain": [
       "75.8"
      ]
     },
     "execution_count": 5,
     "metadata": {},
     "output_type": "execute_result"
    }
   ],
   "source": [
    "# Access the item\n",
    "lunch_box[-1]"
   ]
  },
  {
   "cell_type": "code",
   "execution_count": 7,
   "id": "795b5142",
   "metadata": {},
   "outputs": [],
   "source": [
    "# Access the item\n",
    "lunch_box[-2]=15"
   ]
  },
  {
   "cell_type": "code",
   "execution_count": 8,
   "id": "73252eb4",
   "metadata": {},
   "outputs": [
    {
     "data": {
      "text/plain": [
       "['Apple', 'Chapaati', 'Banana', 'Achar', 15, 75.8]"
      ]
     },
     "execution_count": 8,
     "metadata": {},
     "output_type": "execute_result"
    }
   ],
   "source": [
    "lunch_box"
   ]
  },
  {
   "cell_type": "code",
   "execution_count": 9,
   "id": "dfbecc19",
   "metadata": {},
   "outputs": [],
   "source": [
    "# adding item\n",
    "lunch_box.insert(6,\"Knife\")"
   ]
  },
  {
   "cell_type": "code",
   "execution_count": 10,
   "id": "97b54061",
   "metadata": {},
   "outputs": [
    {
     "data": {
      "text/plain": [
       "['Apple', 'Chapaati', 'Banana', 'Achar', 15, 75.8, 'Knife']"
      ]
     },
     "execution_count": 10,
     "metadata": {},
     "output_type": "execute_result"
    }
   ],
   "source": [
    "lunch_box"
   ]
  },
  {
   "cell_type": "code",
   "execution_count": 11,
   "id": "884d00f2",
   "metadata": {},
   "outputs": [
    {
     "data": {
      "text/plain": [
       "'Knife'"
      ]
     },
     "execution_count": 11,
     "metadata": {},
     "output_type": "execute_result"
    }
   ],
   "source": [
    "lunch_box.pop()"
   ]
  },
  {
   "cell_type": "code",
   "execution_count": 12,
   "id": "a445aa16",
   "metadata": {},
   "outputs": [
    {
     "data": {
      "text/plain": [
       "75.8"
      ]
     },
     "execution_count": 12,
     "metadata": {},
     "output_type": "execute_result"
    }
   ],
   "source": [
    "lunch_box.pop()"
   ]
  },
  {
   "cell_type": "code",
   "execution_count": 14,
   "id": "5bbba70a",
   "metadata": {},
   "outputs": [
    {
     "data": {
      "text/plain": [
       "['Apple', 'Chapaati', 'Banana', 'Achar']"
      ]
     },
     "execution_count": 14,
     "metadata": {},
     "output_type": "execute_result"
    }
   ],
   "source": [
    "# list slicing\n",
    "lunch_box[0:4]"
   ]
  },
  {
   "cell_type": "code",
   "execution_count": 15,
   "id": "587a231f",
   "metadata": {},
   "outputs": [
    {
     "data": {
      "text/plain": [
       "['Banana', 'Achar', 15]"
      ]
     },
     "execution_count": 15,
     "metadata": {},
     "output_type": "execute_result"
    }
   ],
   "source": [
    "# list slicing\n",
    "lunch_box[2:6]"
   ]
  },
  {
   "cell_type": "code",
   "execution_count": null,
   "id": "f1c60263",
   "metadata": {},
   "outputs": [],
   "source": []
  },
  {
   "cell_type": "code",
   "execution_count": null,
   "id": "e7d3cd0b",
   "metadata": {},
   "outputs": [],
   "source": []
  },
  {
   "cell_type": "markdown",
   "id": "84ab70df",
   "metadata": {},
   "source": [
    "# Dictionary"
   ]
  },
  {
   "cell_type": "code",
   "execution_count": 16,
   "id": "cdb08439",
   "metadata": {},
   "outputs": [],
   "source": [
    "diction_name={\"Weight\":35,\"Height\":5.6}"
   ]
  },
  {
   "cell_type": "code",
   "execution_count": 17,
   "id": "e182e6bd",
   "metadata": {},
   "outputs": [
    {
     "data": {
      "text/plain": [
       "{'Weight': 35, 'Height': 5.6}"
      ]
     },
     "execution_count": 17,
     "metadata": {},
     "output_type": "execute_result"
    }
   ],
   "source": [
    "diction_name"
   ]
  },
  {
   "cell_type": "code",
   "execution_count": 18,
   "id": "d6228579",
   "metadata": {},
   "outputs": [
    {
     "data": {
      "text/plain": [
       "dict_keys(['Weight', 'Height'])"
      ]
     },
     "execution_count": 18,
     "metadata": {},
     "output_type": "execute_result"
    }
   ],
   "source": [
    "diction_name.keys()"
   ]
  },
  {
   "cell_type": "code",
   "execution_count": 19,
   "id": "4d1c2c0c",
   "metadata": {},
   "outputs": [
    {
     "data": {
      "text/plain": [
       "dict_values([35, 5.6])"
      ]
     },
     "execution_count": 19,
     "metadata": {},
     "output_type": "execute_result"
    }
   ],
   "source": [
    "diction_name.values()"
   ]
  },
  {
   "cell_type": "code",
   "execution_count": 20,
   "id": "7f8188cf",
   "metadata": {},
   "outputs": [],
   "source": [
    "diction_name[\"BMI\"]=78"
   ]
  },
  {
   "cell_type": "code",
   "execution_count": 21,
   "id": "d6adb232",
   "metadata": {},
   "outputs": [
    {
     "data": {
      "text/plain": [
       "{'Weight': 35, 'Height': 5.6, 'BMI': 78}"
      ]
     },
     "execution_count": 21,
     "metadata": {},
     "output_type": "execute_result"
    }
   ],
   "source": [
    "diction_name"
   ]
  },
  {
   "cell_type": "code",
   "execution_count": 22,
   "id": "c1e8264f",
   "metadata": {},
   "outputs": [],
   "source": [
    "diction_name[\"BMI\"]=421"
   ]
  },
  {
   "cell_type": "code",
   "execution_count": 23,
   "id": "58ba10c7",
   "metadata": {},
   "outputs": [
    {
     "data": {
      "text/plain": [
       "{'Weight': 35, 'Height': 5.6, 'BMI': 421}"
      ]
     },
     "execution_count": 23,
     "metadata": {},
     "output_type": "execute_result"
    }
   ],
   "source": [
    "diction_name"
   ]
  },
  {
   "cell_type": "code",
   "execution_count": 26,
   "id": "89d4636d",
   "metadata": {},
   "outputs": [],
   "source": [
    "diction_name[\"BMI_\"]=421"
   ]
  },
  {
   "cell_type": "code",
   "execution_count": 27,
   "id": "154ab781",
   "metadata": {},
   "outputs": [
    {
     "data": {
      "text/plain": [
       "{'Weight': 35, 'Height': 5.6, 'BMI': 421, 'BMI_': 421}"
      ]
     },
     "execution_count": 27,
     "metadata": {},
     "output_type": "execute_result"
    }
   ],
   "source": [
    "diction_name"
   ]
  },
  {
   "cell_type": "code",
   "execution_count": 28,
   "id": "9a32e0a2",
   "metadata": {},
   "outputs": [],
   "source": [
    "# Removing items from a dictionary\n",
    "del diction_name[\"BMI_\"]"
   ]
  },
  {
   "cell_type": "code",
   "execution_count": 29,
   "id": "cd32d325",
   "metadata": {},
   "outputs": [
    {
     "data": {
      "text/plain": [
       "{'Weight': 35, 'Height': 5.6, 'BMI': 421}"
      ]
     },
     "execution_count": 29,
     "metadata": {},
     "output_type": "execute_result"
    }
   ],
   "source": [
    "diction_name"
   ]
  },
  {
   "cell_type": "markdown",
   "id": "a03327b0",
   "metadata": {},
   "source": [
    "# Strings"
   ]
  },
  {
   "cell_type": "code",
   "execution_count": 30,
   "id": "af878e41",
   "metadata": {},
   "outputs": [],
   "source": [
    "string_name=\"Techlang is having DS course\""
   ]
  },
  {
   "cell_type": "code",
   "execution_count": 31,
   "id": "3b4bc383",
   "metadata": {},
   "outputs": [
    {
     "data": {
      "text/plain": [
       "'Techlang is having DS course'"
      ]
     },
     "execution_count": 31,
     "metadata": {},
     "output_type": "execute_result"
    }
   ],
   "source": [
    "string_name"
   ]
  },
  {
   "cell_type": "code",
   "execution_count": 32,
   "id": "0439078a",
   "metadata": {},
   "outputs": [
    {
     "data": {
      "text/plain": [
       "'Techlang is having DS course !!!!'"
      ]
     },
     "execution_count": 32,
     "metadata": {},
     "output_type": "execute_result"
    }
   ],
   "source": [
    "# String concatenation\n",
    "last_tag=\" !!!!\"\n",
    "name=string_name+last_tag\n",
    "name"
   ]
  },
  {
   "cell_type": "code",
   "execution_count": 33,
   "id": "2d16c6d5",
   "metadata": {},
   "outputs": [
    {
     "name": "stdout",
     "output_type": "stream",
     "text": [
      "Enter your name .... Tirupathi\n"
     ]
    }
   ],
   "source": [
    "# String interpolation\n",
    "name=input(\"Enter your name .... \")"
   ]
  },
  {
   "cell_type": "code",
   "execution_count": 36,
   "id": "9f845763",
   "metadata": {},
   "outputs": [
    {
     "data": {
      "text/plain": [
       "'Hello my greetings to you ,Tirupathi!!!'"
      ]
     },
     "execution_count": 36,
     "metadata": {},
     "output_type": "execute_result"
    }
   ],
   "source": [
    "\n",
    "gretting=f\"Hello my greetings to you ,{name}!!!\"\n",
    "gretting"
   ]
  },
  {
   "cell_type": "code",
   "execution_count": 37,
   "id": "1f80084e",
   "metadata": {},
   "outputs": [
    {
     "data": {
      "text/plain": [
       "39"
      ]
     },
     "execution_count": 37,
     "metadata": {},
     "output_type": "execute_result"
    }
   ],
   "source": [
    "# String methods\n",
    "stringth_len=len(gretting)\n",
    "stringth_len"
   ]
  },
  {
   "cell_type": "code",
   "execution_count": 38,
   "id": "47ef9889",
   "metadata": {},
   "outputs": [
    {
     "data": {
      "text/plain": [
       "'HELLO MY GREETINGS TO YOU ,TIRUPATHI!!!'"
      ]
     },
     "execution_count": 38,
     "metadata": {},
     "output_type": "execute_result"
    }
   ],
   "source": [
    "upper_len=gretting.upper()\n",
    "upper_len"
   ]
  },
  {
   "cell_type": "code",
   "execution_count": 40,
   "id": "9879ff64",
   "metadata": {},
   "outputs": [
    {
     "data": {
      "text/plain": [
       "'hello my greetings to you ,tirupathi!!!'"
      ]
     },
     "execution_count": 40,
     "metadata": {},
     "output_type": "execute_result"
    }
   ],
   "source": [
    "lower_len=upper_len.lower()\n",
    "lower_len"
   ]
  },
  {
   "cell_type": "code",
   "execution_count": null,
   "id": "3eda291c",
   "metadata": {},
   "outputs": [],
   "source": []
  },
  {
   "cell_type": "code",
   "execution_count": null,
   "id": "313a7ea6",
   "metadata": {},
   "outputs": [],
   "source": []
  },
  {
   "cell_type": "code",
   "execution_count": null,
   "id": "8cd0916b",
   "metadata": {},
   "outputs": [],
   "source": []
  },
  {
   "cell_type": "code",
   "execution_count": null,
   "id": "048c2012",
   "metadata": {},
   "outputs": [],
   "source": []
  },
  {
   "cell_type": "markdown",
   "id": "b449e33a",
   "metadata": {},
   "source": [
    "# Tuple"
   ]
  },
  {
   "cell_type": "code",
   "execution_count": 41,
   "id": "eadd2020",
   "metadata": {},
   "outputs": [
    {
     "data": {
      "text/plain": [
       "(45, 12, 78, 15, 18, 5, 29)"
      ]
     },
     "execution_count": 41,
     "metadata": {},
     "output_type": "execute_result"
    }
   ],
   "source": [
    "# Tuple Declaration\n",
    "tuple_name=(45,12,78,15,18,5,29)\n",
    "tuple_name"
   ]
  },
  {
   "cell_type": "code",
   "execution_count": 79,
   "id": "4a2e0085",
   "metadata": {},
   "outputs": [],
   "source": [
    "# tuple_name[2]=45"
   ]
  },
  {
   "cell_type": "code",
   "execution_count": 78,
   "id": "f69eda21",
   "metadata": {},
   "outputs": [],
   "source": [
    "# tuple_name.add(8)"
   ]
  },
  {
   "cell_type": "code",
   "execution_count": 43,
   "id": "98e8da42",
   "metadata": {},
   "outputs": [
    {
     "data": {
      "text/plain": [
       "18"
      ]
     },
     "execution_count": 43,
     "metadata": {},
     "output_type": "execute_result"
    }
   ],
   "source": [
    "tuple_name[4]"
   ]
  },
  {
   "cell_type": "code",
   "execution_count": 44,
   "id": "5a615191",
   "metadata": {},
   "outputs": [
    {
     "data": {
      "text/plain": [
       "5"
      ]
     },
     "execution_count": 44,
     "metadata": {},
     "output_type": "execute_result"
    }
   ],
   "source": [
    "#  Accessing tuple items\n",
    "last_item=tuple_name[-2]\n",
    "last_item"
   ]
  },
  {
   "cell_type": "code",
   "execution_count": 46,
   "id": "eb273e45",
   "metadata": {},
   "outputs": [
    {
     "data": {
      "text/plain": [
       "(15, 18)"
      ]
     },
     "execution_count": 46,
     "metadata": {},
     "output_type": "execute_result"
    }
   ],
   "source": [
    "#  Tuple slicing\n",
    "slice_tup=tuple_name[3:5]\n",
    "slice_tup"
   ]
  },
  {
   "cell_type": "code",
   "execution_count": 47,
   "id": "af950e31",
   "metadata": {},
   "outputs": [
    {
     "data": {
      "text/plain": [
       "(78, 15, 18, 5, 29)"
      ]
     },
     "execution_count": 47,
     "metadata": {},
     "output_type": "execute_result"
    }
   ],
   "source": [
    "#  Tuple slicing\n",
    "slice_tup=tuple_name[2:7]\n",
    "slice_tup"
   ]
  },
  {
   "cell_type": "code",
   "execution_count": 49,
   "id": "e961eb39",
   "metadata": {},
   "outputs": [
    {
     "data": {
      "text/plain": [
       "(15, 18, 5)"
      ]
     },
     "execution_count": 49,
     "metadata": {},
     "output_type": "execute_result"
    }
   ],
   "source": [
    "#  Tuple slicing\n",
    "slice_tup=tuple_name[-4:-1]\n",
    "slice_tup"
   ]
  },
  {
   "cell_type": "code",
   "execution_count": 50,
   "id": "9c3d793f",
   "metadata": {},
   "outputs": [
    {
     "data": {
      "text/plain": [
       "(45, 12, 78, 15, 18, 5, 29)"
      ]
     },
     "execution_count": 50,
     "metadata": {},
     "output_type": "execute_result"
    }
   ],
   "source": [
    "tuple_name"
   ]
  },
  {
   "cell_type": "code",
   "execution_count": 51,
   "id": "04bda94f",
   "metadata": {},
   "outputs": [
    {
     "data": {
      "text/plain": [
       "(15, 18, 5, 29)"
      ]
     },
     "execution_count": 51,
     "metadata": {},
     "output_type": "execute_result"
    }
   ],
   "source": [
    "#  Tuple slicing\n",
    "slice_tup=tuple_name[3:]\n",
    "slice_tup"
   ]
  },
  {
   "cell_type": "code",
   "execution_count": 52,
   "id": "babee10f",
   "metadata": {},
   "outputs": [
    {
     "data": {
      "text/plain": [
       "(45, 12, 78, 15)"
      ]
     },
     "execution_count": 52,
     "metadata": {},
     "output_type": "execute_result"
    }
   ],
   "source": [
    "#  Tuple slicing\n",
    "slice_tup=tuple_name[:4]\n",
    "slice_tup"
   ]
  },
  {
   "cell_type": "markdown",
   "id": "541246ca",
   "metadata": {},
   "source": [
    "# Sets"
   ]
  },
  {
   "cell_type": "code",
   "execution_count": 53,
   "id": "95f8f5c7",
   "metadata": {},
   "outputs": [
    {
     "data": {
      "text/plain": [
       "{15, 45, 88, 92}"
      ]
     },
     "execution_count": 53,
     "metadata": {},
     "output_type": "execute_result"
    }
   ],
   "source": [
    "# set Declartion\n",
    "set_name={45,15,88,92}\n",
    "set_name"
   ]
  },
  {
   "cell_type": "code",
   "execution_count": 55,
   "id": "36ee84c0",
   "metadata": {},
   "outputs": [
    {
     "data": {
      "text/plain": [
       "{10, 15, 45, 88, 92}"
      ]
     },
     "execution_count": 55,
     "metadata": {},
     "output_type": "execute_result"
    }
   ],
   "source": [
    "# Adding items to a set\n",
    "set_name.add(10)\n",
    "set_name"
   ]
  },
  {
   "cell_type": "code",
   "execution_count": 56,
   "id": "bf3acb3e",
   "metadata": {},
   "outputs": [],
   "source": [
    "# Adding items to a set\n",
    "set_name.add(65)"
   ]
  },
  {
   "cell_type": "code",
   "execution_count": 57,
   "id": "e95253fb",
   "metadata": {},
   "outputs": [
    {
     "data": {
      "text/plain": [
       "{10, 15, 45, 65, 88, 92}"
      ]
     },
     "execution_count": 57,
     "metadata": {},
     "output_type": "execute_result"
    }
   ],
   "source": [
    "set_name"
   ]
  },
  {
   "cell_type": "code",
   "execution_count": 58,
   "id": "865754c0",
   "metadata": {},
   "outputs": [
    {
     "data": {
      "text/plain": [
       "{10, 15, 45, 65, 92}"
      ]
     },
     "execution_count": 58,
     "metadata": {},
     "output_type": "execute_result"
    }
   ],
   "source": [
    "# Removing items from a set\n",
    "set_name.remove(88)\n",
    "set_name"
   ]
  },
  {
   "cell_type": "code",
   "execution_count": 59,
   "id": "2fa7cbb9",
   "metadata": {},
   "outputs": [],
   "source": [
    "set1={45,15,88,92}\n",
    "set2={4,1,8,2}"
   ]
  },
  {
   "cell_type": "code",
   "execution_count": 60,
   "id": "542ffed5",
   "metadata": {},
   "outputs": [
    {
     "data": {
      "text/plain": [
       "{1, 2, 4, 8, 15, 45, 88, 92}"
      ]
     },
     "execution_count": 60,
     "metadata": {},
     "output_type": "execute_result"
    }
   ],
   "source": [
    "# set operations\n",
    "union_set=set1.union(set2)\n",
    "union_set"
   ]
  },
  {
   "cell_type": "code",
   "execution_count": 61,
   "id": "94b8d91a",
   "metadata": {},
   "outputs": [],
   "source": [
    "set1={45,15,88,92,4,1}\n",
    "set2={4,1,8,2}"
   ]
  },
  {
   "cell_type": "code",
   "execution_count": 62,
   "id": "4ea82690",
   "metadata": {},
   "outputs": [
    {
     "data": {
      "text/plain": [
       "{1, 4}"
      ]
     },
     "execution_count": 62,
     "metadata": {},
     "output_type": "execute_result"
    }
   ],
   "source": [
    "# set operations\n",
    "intersect_set=set1.intersection(set2)\n",
    "intersect_set"
   ]
  },
  {
   "cell_type": "code",
   "execution_count": 63,
   "id": "0f4c4f1f",
   "metadata": {},
   "outputs": [
    {
     "data": {
      "text/plain": [
       "{15, 45, 88, 92}"
      ]
     },
     "execution_count": 63,
     "metadata": {},
     "output_type": "execute_result"
    }
   ],
   "source": [
    "# set operations\n",
    "diff_set=set1.difference(set2)\n",
    "diff_set"
   ]
  },
  {
   "cell_type": "code",
   "execution_count": 64,
   "id": "8f5dffdc",
   "metadata": {},
   "outputs": [
    {
     "data": {
      "text/plain": [
       "{2, 8}"
      ]
     },
     "execution_count": 64,
     "metadata": {},
     "output_type": "execute_result"
    }
   ],
   "source": [
    "# set operations\n",
    "diff_set=set2.difference(set1)\n",
    "diff_set"
   ]
  },
  {
   "cell_type": "markdown",
   "id": "993dafa9",
   "metadata": {},
   "source": [
    "# List Comprehensions"
   ]
  },
  {
   "cell_type": "code",
   "execution_count": 65,
   "id": "0cede3c1",
   "metadata": {},
   "outputs": [],
   "source": [
    "#  Creating a new list from an existing list\n",
    "list1=[1,3,2,5,7,9,6,10,12,25]\n"
   ]
  },
  {
   "cell_type": "code",
   "execution_count": 66,
   "id": "2de77e4b",
   "metadata": {},
   "outputs": [
    {
     "data": {
      "text/plain": [
       "[2, 6, 4, 10, 14, 18, 12, 20, 24, 50]"
      ]
     },
     "execution_count": 66,
     "metadata": {},
     "output_type": "execute_result"
    }
   ],
   "source": [
    "new_list=[i*2 for i in list1]\n",
    "new_list"
   ]
  },
  {
   "cell_type": "code",
   "execution_count": 67,
   "id": "2f296e1d",
   "metadata": {},
   "outputs": [
    {
     "data": {
      "text/plain": [
       "[2, 6, 10, 12]"
      ]
     },
     "execution_count": 67,
     "metadata": {},
     "output_type": "execute_result"
    }
   ],
   "source": [
    "#  Creating a new list from an existing list\n",
    "#  Conditionally creating a new list from an existing list\n",
    "new_list=[i for i in list1 if i%2==0]\n",
    "new_list"
   ]
  },
  {
   "cell_type": "code",
   "execution_count": 68,
   "id": "e719ceef",
   "metadata": {},
   "outputs": [
    {
     "data": {
      "text/plain": [
       "[1, 3, 5, 7, 9, 25]"
      ]
     },
     "execution_count": 68,
     "metadata": {},
     "output_type": "execute_result"
    }
   ],
   "source": [
    "new_list=[i for i in list1 if i%2!=0]\n",
    "new_list"
   ]
  },
  {
   "cell_type": "markdown",
   "id": "9948155d",
   "metadata": {},
   "source": [
    "# Modules and Packages"
   ]
  },
  {
   "cell_type": "code",
   "execution_count": 69,
   "id": "a8827dbe",
   "metadata": {},
   "outputs": [],
   "source": [
    "import math"
   ]
  },
  {
   "cell_type": "code",
   "execution_count": null,
   "id": "c17216cd",
   "metadata": {},
   "outputs": [],
   "source": [
    "#  Importing a specific function from a module\n",
    "from math import sqrt"
   ]
  },
  {
   "cell_type": "code",
   "execution_count": 70,
   "id": "73a6366b",
   "metadata": {},
   "outputs": [
    {
     "data": {
      "text/plain": [
       "4.0"
      ]
     },
     "execution_count": 70,
     "metadata": {},
     "output_type": "execute_result"
    }
   ],
   "source": [
    "math.sqrt(16)"
   ]
  },
  {
   "cell_type": "code",
   "execution_count": 71,
   "id": "86431823",
   "metadata": {},
   "outputs": [],
   "source": [
    "#  Importing all function from a module\n",
    "from math import *"
   ]
  },
  {
   "cell_type": "code",
   "execution_count": 72,
   "id": "ff609542",
   "metadata": {},
   "outputs": [
    {
     "data": {
      "text/plain": [
       "-0.9880316240928618"
      ]
     },
     "execution_count": 72,
     "metadata": {},
     "output_type": "execute_result"
    }
   ],
   "source": [
    "math.sin(30)"
   ]
  },
  {
   "cell_type": "code",
   "execution_count": 73,
   "id": "67f2ec1d",
   "metadata": {},
   "outputs": [
    {
     "data": {
      "text/plain": [
       "-0.9524129804151563"
      ]
     },
     "execution_count": 73,
     "metadata": {},
     "output_type": "execute_result"
    }
   ],
   "source": [
    "cos(60)"
   ]
  },
  {
   "cell_type": "code",
   "execution_count": null,
   "id": "0faf16fb",
   "metadata": {},
   "outputs": [],
   "source": [
    "# what is list comprehension ?"
   ]
  },
  {
   "cell_type": "code",
   "execution_count": 75,
   "id": "1e6e43f2",
   "metadata": {},
   "outputs": [
    {
     "name": "stdout",
     "output_type": "stream",
     "text": [
      "<class 'int'>\n"
     ]
    }
   ],
   "source": [
    "num = 12\n",
    "print( type(num)) "
   ]
  },
  {
   "cell_type": "code",
   "execution_count": null,
   "id": "b7d26601",
   "metadata": {},
   "outputs": [],
   "source": []
  },
  {
   "cell_type": "code",
   "execution_count": null,
   "id": "9e476a1e",
   "metadata": {},
   "outputs": [],
   "source": []
  },
  {
   "cell_type": "code",
   "execution_count": null,
   "id": "f4c6caf6",
   "metadata": {},
   "outputs": [],
   "source": []
  }
 ],
 "metadata": {
  "kernelspec": {
   "display_name": "Python 3 (ipykernel)",
   "language": "python",
   "name": "python3"
  },
  "language_info": {
   "codemirror_mode": {
    "name": "ipython",
    "version": 3
   },
   "file_extension": ".py",
   "mimetype": "text/x-python",
   "name": "python",
   "nbconvert_exporter": "python",
   "pygments_lexer": "ipython3",
   "version": "3.9.13"
  }
 },
 "nbformat": 4,
 "nbformat_minor": 5
}
