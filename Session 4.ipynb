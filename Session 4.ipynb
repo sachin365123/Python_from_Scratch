{
 "cells": [
  {
   "cell_type": "code",
   "execution_count": null,
   "id": "27561bdb",
   "metadata": {},
   "outputs": [],
   "source": [
    "# String"
   ]
  },
  {
   "cell_type": "code",
   "execution_count": 1,
   "id": "fdad0d59",
   "metadata": {},
   "outputs": [
    {
     "name": "stdout",
     "output_type": "stream",
     "text": [
      "5\n"
     ]
    }
   ],
   "source": [
    "f=5\n",
    "print(f)"
   ]
  },
  {
   "cell_type": "code",
   "execution_count": 2,
   "id": "b86a8cc1",
   "metadata": {},
   "outputs": [
    {
     "name": "stdout",
     "output_type": "stream",
     "text": [
      "ABC\n"
     ]
    }
   ],
   "source": [
    "f='ABC'\n",
    "print(f)"
   ]
  },
  {
   "cell_type": "code",
   "execution_count": 3,
   "id": "6982e27c",
   "metadata": {},
   "outputs": [
    {
     "data": {
      "text/plain": [
       "str"
      ]
     },
     "execution_count": 3,
     "metadata": {},
     "output_type": "execute_result"
    }
   ],
   "source": [
    "type(f)"
   ]
  },
  {
   "cell_type": "code",
   "execution_count": 4,
   "id": "56431775",
   "metadata": {},
   "outputs": [
    {
     "name": "stdout",
     "output_type": "stream",
     "text": [
      "Techlang 123\n"
     ]
    }
   ],
   "source": [
    "#concatenation \n",
    "print(\"Techlang \"+str(123))"
   ]
  },
  {
   "cell_type": "code",
   "execution_count": 6,
   "id": "16e9761d",
   "metadata": {},
   "outputs": [
    {
     "name": "stdout",
     "output_type": "stream",
     "text": [
      "Techlang Hello !!!\n"
     ]
    }
   ],
   "source": [
    "#concatenation or add\n",
    "print(\"Techlang \"+'Hello !!!')"
   ]
  },
  {
   "cell_type": "code",
   "execution_count": 10,
   "id": "149c8bdd",
   "metadata": {},
   "outputs": [],
   "source": [
    "def someFunction():\n",
    "    global f\n",
    "    f='Delhi'\n",
    "    "
   ]
  },
  {
   "cell_type": "code",
   "execution_count": 11,
   "id": "0ea2d228",
   "metadata": {},
   "outputs": [
    {
     "name": "stdout",
     "output_type": "stream",
     "text": [
      "Delhi\n"
     ]
    }
   ],
   "source": [
    "f='Delhi '\n",
    "someFunction()\n",
    "print(f)"
   ]
  },
  {
   "cell_type": "code",
   "execution_count": 12,
   "id": "6585860a",
   "metadata": {},
   "outputs": [],
   "source": [
    "def func2(arg1,arg2):\n",
    "    print(arg1,\"I am Data Scientist \",arg2)"
   ]
  },
  {
   "cell_type": "code",
   "execution_count": 13,
   "id": "dfac4a62",
   "metadata": {},
   "outputs": [],
   "source": [
    "def cube(x):\n",
    "    return x*x*x"
   ]
  },
  {
   "cell_type": "code",
   "execution_count": 14,
   "id": "583df5f9",
   "metadata": {},
   "outputs": [
    {
     "name": "stdout",
     "output_type": "stream",
     "text": [
      "10 I am Data Scientist  20\n",
      "40 I am Data Scientist  60\n",
      "None\n",
      "27\n"
     ]
    }
   ],
   "source": [
    "func2(10,20)\n",
    "print(func2(40,60))\n",
    "print(cube(3))"
   ]
  },
  {
   "cell_type": "code",
   "execution_count": 16,
   "id": "2f5162b5",
   "metadata": {},
   "outputs": [
    {
     "name": "stdout",
     "output_type": "stream",
     "text": [
      "str str str str \n"
     ]
    }
   ],
   "source": [
    "print('str '*4)"
   ]
  },
  {
   "cell_type": "code",
   "execution_count": 18,
   "id": "2c8d0e5a",
   "metadata": {},
   "outputs": [
    {
     "name": "stdout",
     "output_type": "stream",
     "text": [
      "False\n"
     ]
    }
   ],
   "source": [
    "print('k' in 'techlanagdatavalue')"
   ]
  },
  {
   "cell_type": "code",
   "execution_count": 19,
   "id": "3e964df9",
   "metadata": {},
   "outputs": [
    {
     "name": "stdout",
     "output_type": "stream",
     "text": [
      "True\n"
     ]
    }
   ],
   "source": [
    "print('ar'=='ar')"
   ]
  },
  {
   "cell_type": "code",
   "execution_count": 20,
   "id": "72d1d933",
   "metadata": {},
   "outputs": [
    {
     "name": "stdout",
     "output_type": "stream",
     "text": [
      "False\n"
     ]
    }
   ],
   "source": [
    "print('Sach'>'sach')"
   ]
  },
  {
   "cell_type": "code",
   "execution_count": 22,
   "id": "677ab65f",
   "metadata": {},
   "outputs": [
    {
     "name": "stdout",
     "output_type": "stream",
     "text": [
      "True\n"
     ]
    }
   ],
   "source": [
    "print('A'<'a')"
   ]
  },
  {
   "cell_type": "code",
   "execution_count": 23,
   "id": "9ff78928",
   "metadata": {},
   "outputs": [
    {
     "data": {
      "text/plain": [
       "65"
      ]
     },
     "execution_count": 23,
     "metadata": {},
     "output_type": "execute_result"
    }
   ],
   "source": [
    "ord('A')"
   ]
  },
  {
   "cell_type": "code",
   "execution_count": 24,
   "id": "4ab4ad19",
   "metadata": {},
   "outputs": [
    {
     "data": {
      "text/plain": [
       "97"
      ]
     },
     "execution_count": 24,
     "metadata": {},
     "output_type": "execute_result"
    }
   ],
   "source": [
    "ord('a')"
   ]
  },
  {
   "cell_type": "code",
   "execution_count": 58,
   "id": "a061cd4c",
   "metadata": {},
   "outputs": [
    {
     "data": {
      "text/plain": [
       "37"
      ]
     },
     "execution_count": 58,
     "metadata": {},
     "output_type": "execute_result"
    }
   ],
   "source": [
    "ord('%')"
   ]
  },
  {
   "cell_type": "code",
   "execution_count": 25,
   "id": "16011461",
   "metadata": {},
   "outputs": [],
   "source": [
    "s=\"Techlang is my name\""
   ]
  },
  {
   "cell_type": "code",
   "execution_count": 26,
   "id": "29b4f57e",
   "metadata": {},
   "outputs": [
    {
     "name": "stdout",
     "output_type": "stream",
     "text": [
      "['Techlang', 'is', 'my', 'name']\n"
     ]
    }
   ],
   "source": [
    "print(s.split())"
   ]
  },
  {
   "cell_type": "code",
   "execution_count": 27,
   "id": "95424f58",
   "metadata": {},
   "outputs": [],
   "source": [
    "s=\"Techlang $ is $ m$y na$me\""
   ]
  },
  {
   "cell_type": "code",
   "execution_count": 28,
   "id": "493e13da",
   "metadata": {},
   "outputs": [
    {
     "name": "stdout",
     "output_type": "stream",
     "text": [
      "['Techlang ', ' is ', ' m', 'y na', 'me']\n"
     ]
    }
   ],
   "source": [
    "print(s.split('$'))"
   ]
  },
  {
   "cell_type": "code",
   "execution_count": 29,
   "id": "2e58576c",
   "metadata": {},
   "outputs": [],
   "source": [
    "list1=['Techlang ', ' is ', ' m', 'y na', 'me']"
   ]
  },
  {
   "cell_type": "code",
   "execution_count": null,
   "id": "e18b8f62",
   "metadata": {},
   "outputs": [],
   "source": [
    "# join"
   ]
  },
  {
   "cell_type": "code",
   "execution_count": null,
   "id": "da9ffc5c",
   "metadata": {},
   "outputs": [],
   "source": []
  },
  {
   "cell_type": "code",
   "execution_count": null,
   "id": "925154d1",
   "metadata": {},
   "outputs": [],
   "source": [
    "# Date time function"
   ]
  },
  {
   "cell_type": "code",
   "execution_count": 32,
   "id": "3f36a406",
   "metadata": {},
   "outputs": [],
   "source": [
    "from datetime import date\n",
    "from datetime import time\n",
    "from datetime import datetime"
   ]
  },
  {
   "cell_type": "code",
   "execution_count": 41,
   "id": "60cfb59e",
   "metadata": {},
   "outputs": [],
   "source": [
    "def main():\n",
    "    today=date.today()\n",
    "    print(\"Today date is: \",today)\n",
    "    print(\"Date Components: \",today.day)\n",
    "    print(\"Date Components: \",today.month)\n",
    "    print(\"Date Components: \",today.year)\n",
    "    t=today.day+2\n",
    "    print(\"After two days: \",t)\n",
    "    "
   ]
  },
  {
   "cell_type": "code",
   "execution_count": 42,
   "id": "a62d2fa0",
   "metadata": {},
   "outputs": [
    {
     "name": "stdout",
     "output_type": "stream",
     "text": [
      "Today date is:  2023-07-24\n",
      "Date Components:  24\n",
      "Date Components:  7\n",
      "Date Components:  2023\n",
      "After two days:  26\n"
     ]
    }
   ],
   "source": [
    "if __name__==\"__main__\":\n",
    "    main()"
   ]
  },
  {
   "cell_type": "code",
   "execution_count": 43,
   "id": "eb92819f",
   "metadata": {},
   "outputs": [
    {
     "name": "stdout",
     "output_type": "stream",
     "text": [
      "22:32:41.022069\n"
     ]
    }
   ],
   "source": [
    "today=datetime.time(datetime.now())\n",
    "print(today)"
   ]
  },
  {
   "cell_type": "code",
   "execution_count": 44,
   "id": "565faf14",
   "metadata": {},
   "outputs": [],
   "source": [
    "from datetime import datetime\n",
    "def main():\n",
    "    now=datetime.now()\n",
    "    print(now.strftime(\"Current year is %Y\"))"
   ]
  },
  {
   "cell_type": "code",
   "execution_count": 45,
   "id": "de90ed40",
   "metadata": {},
   "outputs": [
    {
     "name": "stdout",
     "output_type": "stream",
     "text": [
      "Current year is 2023\n"
     ]
    }
   ],
   "source": [
    "if __name__==\"__main__\":\n",
    "    main()"
   ]
  },
  {
   "cell_type": "code",
   "execution_count": 46,
   "id": "f05d34f7",
   "metadata": {},
   "outputs": [],
   "source": [
    "from datetime import datetime\n",
    "def main():\n",
    "    now=datetime.now()\n",
    "    print(now.strftime(\"Current year is %y\"))"
   ]
  },
  {
   "cell_type": "code",
   "execution_count": 47,
   "id": "08ae9cb1",
   "metadata": {},
   "outputs": [
    {
     "name": "stdout",
     "output_type": "stream",
     "text": [
      "Current year is 23\n"
     ]
    }
   ],
   "source": [
    "if __name__==\"__main__\":\n",
    "    main()"
   ]
  },
  {
   "cell_type": "code",
   "execution_count": 48,
   "id": "4f3d3817",
   "metadata": {},
   "outputs": [],
   "source": [
    "from datetime import datetime\n",
    "def main():\n",
    "    now=datetime.now()\n",
    "    print(now.strftime(\"%a, %d, %B %Y\"))"
   ]
  },
  {
   "cell_type": "code",
   "execution_count": 49,
   "id": "b714cf2c",
   "metadata": {},
   "outputs": [
    {
     "name": "stdout",
     "output_type": "stream",
     "text": [
      "Mon, 24, July 2023\n"
     ]
    }
   ],
   "source": [
    "if __name__==\"__main__\":\n",
    "    main()"
   ]
  },
  {
   "cell_type": "code",
   "execution_count": 50,
   "id": "b22ec5d7",
   "metadata": {},
   "outputs": [],
   "source": [
    "from datetime import datetime\n",
    "def main():\n",
    "    now=datetime.now()\n",
    "    print(now.strftime(\"%A, %D, %b %y\"))"
   ]
  },
  {
   "cell_type": "code",
   "execution_count": 51,
   "id": "a8bd6dbc",
   "metadata": {},
   "outputs": [
    {
     "name": "stdout",
     "output_type": "stream",
     "text": [
      "Monday, 07/24/23, Jul 23\n"
     ]
    }
   ],
   "source": [
    "if __name__==\"__main__\":\n",
    "    main()"
   ]
  },
  {
   "cell_type": "code",
   "execution_count": 53,
   "id": "540d1d00",
   "metadata": {},
   "outputs": [],
   "source": [
    "from datetime import timedelta"
   ]
  },
  {
   "cell_type": "code",
   "execution_count": 54,
   "id": "1c42df22",
   "metadata": {},
   "outputs": [
    {
     "name": "stdout",
     "output_type": "stream",
     "text": [
      "365 days, 5:01:00\n",
      "Sachin: 2023-07-24 22:38:39.153191\n",
      "Sachin: 2024-07-23 22:38:39.153191\n"
     ]
    }
   ],
   "source": [
    "print(timedelta(days=365,hours=5,minutes=1))\n",
    "now=datetime.now()\n",
    "print(\"Sachin: \"+str(now))\n",
    "print(\"Sachin: \"+str(now+timedelta(days=365)))"
   ]
  },
  {
   "cell_type": "code",
   "execution_count": 55,
   "id": "f9f6d7b3",
   "metadata": {},
   "outputs": [
    {
     "name": "stdout",
     "output_type": "stream",
     "text": [
      "365 days, 5:01:00\n",
      "Sachin: 2023-07-24 22:39:59.379420\n",
      "Saxena: 2023-08-16 22:39:59.379420\n"
     ]
    }
   ],
   "source": [
    "\n",
    "print(timedelta(days=365,hours=5,minutes=1))\n",
    "now=datetime.now()\n",
    "print(\"Sachin: \"+str(now))\n",
    "print(\"Saxena: \"+str(now+timedelta(days=2,weeks=3)))"
   ]
  },
  {
   "cell_type": "code",
   "execution_count": 56,
   "id": "4972289d",
   "metadata": {},
   "outputs": [
    {
     "name": "stdout",
     "output_type": "stream",
     "text": [
      "One week ago it was: Monday July 17 2023\n"
     ]
    }
   ],
   "source": [
    "t=datetime.now()-timedelta(weeks=1)\n",
    "s=t.strftime(\"%A %B %d %Y\")\n",
    "print(\"One week ago it was: \"+s)"
   ]
  },
  {
   "cell_type": "code",
   "execution_count": 57,
   "id": "282811c0",
   "metadata": {},
   "outputs": [
    {
     "name": "stdout",
     "output_type": "stream",
     "text": [
      "2023-07-24\n"
     ]
    }
   ],
   "source": [
    "now=date.today()\n",
    "print(now)"
   ]
  },
  {
   "cell_type": "code",
   "execution_count": null,
   "id": "3f2a5c0b",
   "metadata": {},
   "outputs": [],
   "source": []
  },
  {
   "cell_type": "code",
   "execution_count": null,
   "id": "b2c7533a",
   "metadata": {},
   "outputs": [],
   "source": []
  },
  {
   "cell_type": "code",
   "execution_count": null,
   "id": "2ade8a3e",
   "metadata": {},
   "outputs": [],
   "source": []
  }
 ],
 "metadata": {
  "kernelspec": {
   "display_name": "Python 3 (ipykernel)",
   "language": "python",
   "name": "python3"
  },
  "language_info": {
   "codemirror_mode": {
    "name": "ipython",
    "version": 3
   },
   "file_extension": ".py",
   "mimetype": "text/x-python",
   "name": "python",
   "nbconvert_exporter": "python",
   "pygments_lexer": "ipython3",
   "version": "3.9.13"
  }
 },
 "nbformat": 4,
 "nbformat_minor": 5
}
