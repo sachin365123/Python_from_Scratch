{
 "cells": [
  {
   "cell_type": "markdown",
   "id": "60918c16",
   "metadata": {},
   "source": [
    "# SciPy Tutorial"
   ]
  },
  {
   "cell_type": "markdown",
   "id": "52bf22f2",
   "metadata": {},
   "source": [
    "## Scipy Intoduction\n",
    "\n",
    "### SciPy = Scientific Python\n",
    "\n",
    "SciPy is a collection of mathematical algorithms and convenience functions built on the Numpy extension of Python. It with high-level commands and classes for manipulating and visualizing data. \n",
    "\n",
    "The additional benefit of basing SciPy on Python is that this also makes a powerful programming language available for use in developing sophisticated programs and specialized applications. \n",
    "\n",
    "Let's start with the contents of tutorial."
   ]
  },
  {
   "cell_type": "markdown",
   "id": "709890f3",
   "metadata": {
    "colab_type": "text",
    "id": "4PlaTlY4pNSr"
   },
   "source": [
    "## Contents Covered :\n",
    "\n",
    "#### 1) Basic -  Polynomial\n",
    "#### 2) Special Funtion \n",
    "#### 3) Integration\n",
    "#### 4) Linear Algebra \n",
    "#### 5) Fourier Transformation\n",
    "#### 6) Interpolation \n",
    "#### 7) Statistics\n",
    "#### 8) Miscellaneous "
   ]
  },
  {
   "cell_type": "markdown",
   "id": "0e86e734",
   "metadata": {},
   "source": [
    "## 1) Basic - Polynomial"
   ]
  },
  {
   "cell_type": "code",
   "execution_count": 2,
   "id": "22ae9082",
   "metadata": {},
   "outputs": [
    {
     "name": "stdout",
     "output_type": "stream",
     "text": [
      "   2\n",
      "3 x + 6 x + 8\n"
     ]
    }
   ],
   "source": [
    "from numpy import poly1d\n",
    "p=poly1d([3,6,8])\n",
    "print(p)"
   ]
  },
  {
   "cell_type": "code",
   "execution_count": 3,
   "id": "58890e78",
   "metadata": {},
   "outputs": [
    {
     "name": "stdout",
     "output_type": "stream",
     "text": [
      "   4      3      2\n",
      "9 x + 36 x + 84 x + 96 x + 64\n"
     ]
    }
   ],
   "source": [
    "print(p*p)  #(3x^2 + 4^x + 5)^2"
   ]
  },
  {
   "cell_type": "code",
   "execution_count": 6,
   "id": "2fcd1671",
   "metadata": {},
   "outputs": [
    {
     "name": "stdout",
     "output_type": "stream",
     "text": [
      "   2\n",
      "3 x + 6 x + 8\n",
      " p(2)=  32\n",
      "p(2) and p(3)= [32 53]\n"
     ]
    }
   ],
   "source": [
    "print(p)\n",
    "print(\" p(2)= \",p(2))\n",
    "print(\"p(2) and p(3)=\",p([2,3]))"
   ]
  },
  {
   "cell_type": "code",
   "execution_count": 7,
   "id": "f5af3678",
   "metadata": {},
   "outputs": [
    {
     "name": "stdout",
     "output_type": "stream",
     "text": [
      "p(2),p(4),p(6) and p(3)= [ 32  80 152  53]\n"
     ]
    }
   ],
   "source": [
    "print(\"p(2),p(4),p(6) and p(3)=\",p([2,4,6,3]))"
   ]
  },
  {
   "cell_type": "code",
   "execution_count": 8,
   "id": "84c48a88",
   "metadata": {},
   "outputs": [
    {
     "data": {
      "text/plain": [
       "array([-1.+1.29099445j, -1.-1.29099445j])"
      ]
     },
     "execution_count": 8,
     "metadata": {},
     "output_type": "execute_result"
    }
   ],
   "source": [
    "#Roots of p\n",
    "p.r"
   ]
  },
  {
   "cell_type": "code",
   "execution_count": 9,
   "id": "f86ad12c",
   "metadata": {},
   "outputs": [
    {
     "name": "stdout",
     "output_type": "stream",
     "text": [
      "   2\n",
      "1 x + 2 x + 1\n"
     ]
    }
   ],
   "source": [
    "q=poly1d([1,2,1])\n",
    "print(q)"
   ]
  },
  {
   "cell_type": "code",
   "execution_count": 10,
   "id": "099b30be",
   "metadata": {},
   "outputs": [
    {
     "data": {
      "text/plain": [
       "array([-1., -1.])"
      ]
     },
     "execution_count": 10,
     "metadata": {},
     "output_type": "execute_result"
    }
   ],
   "source": [
    "q.r"
   ]
  },
  {
   "cell_type": "code",
   "execution_count": 11,
   "id": "7a8db2a3",
   "metadata": {},
   "outputs": [
    {
     "data": {
      "text/plain": [
       "poly1d([1, 2, 1])"
      ]
     },
     "execution_count": 11,
     "metadata": {},
     "output_type": "execute_result"
    }
   ],
   "source": [
    "q"
   ]
  },
  {
   "cell_type": "code",
   "execution_count": 12,
   "id": "8039ef08",
   "metadata": {},
   "outputs": [
    {
     "name": "stdout",
     "output_type": "stream",
     "text": [
      "   2\n",
      "3 x + 6 x + 8\n",
      "\n",
      "   2\n",
      "1 y + 2 y + 3\n"
     ]
    }
   ],
   "source": [
    "print(p)\n",
    "p1 = poly1d([1,2,3],variable='y') #equation with variable as y\n",
    "print()\n",
    "print(p1)"
   ]
  },
  {
   "cell_type": "code",
   "execution_count": 14,
   "id": "55db2a10",
   "metadata": {},
   "outputs": [],
   "source": [
    "p2 = poly1d([1,2,3],variable='t') #equation with variable as t for time"
   ]
  },
  {
   "cell_type": "code",
   "execution_count": 15,
   "id": "f9b8d97f",
   "metadata": {},
   "outputs": [
    {
     "name": "stdout",
     "output_type": "stream",
     "text": [
      "   2\n",
      "1 t + 2 t + 3\n"
     ]
    }
   ],
   "source": [
    "print(p2)"
   ]
  },
  {
   "cell_type": "code",
   "execution_count": 16,
   "id": "d91d1f49",
   "metadata": {},
   "outputs": [
    {
     "name": "stdout",
     "output_type": "stream",
     "text": [
      "   3     2\n",
      "1 x + 3 x + 8 x + 6\n"
     ]
    }
   ],
   "source": [
    "#Integration of a Polynomial\n",
    "\n",
    "print(p.integ(k=6)) #k = indefinite integration constant"
   ]
  },
  {
   "cell_type": "code",
   "execution_count": 17,
   "id": "3e732f55",
   "metadata": {},
   "outputs": [
    {
     "name": "stdout",
     "output_type": "stream",
     "text": [
      "   3     2\n",
      "1 x + 3 x + 8 x\n"
     ]
    }
   ],
   "source": [
    "#Integration of a Polynomial\n",
    "\n",
    "print(p.integ()) #k = indefinite integration constant"
   ]
  },
  {
   "cell_type": "code",
   "execution_count": 18,
   "id": "2d2272be",
   "metadata": {},
   "outputs": [
    {
     "name": "stdout",
     "output_type": "stream",
     "text": [
      " \n",
      "6 x + 6\n"
     ]
    }
   ],
   "source": [
    "# Differentiation of a Polynomial\n",
    "\n",
    "print(p.deriv())"
   ]
  },
  {
   "cell_type": "markdown",
   "id": "208b1aea",
   "metadata": {
    "colab_type": "text",
    "id": "fYkXtvnncmrK"
   },
   "source": [
    "## 2) Special Function (import scipy.special)"
   ]
  },
  {
   "cell_type": "code",
   "execution_count": 19,
   "id": "5bd4f880",
   "metadata": {},
   "outputs": [],
   "source": [
    "import scipy.special"
   ]
  },
  {
   "cell_type": "code",
   "execution_count": 24,
   "id": "e73d33c3",
   "metadata": {},
   "outputs": [
    {
     "data": {
      "text/plain": [
       "array([ 1,  2,  3,  4,  5,  6,  7,  8,  9, 10])"
      ]
     },
     "execution_count": 24,
     "metadata": {},
     "output_type": "execute_result"
    }
   ],
   "source": [
    "import numpy as np\n",
    "a=np.arange(1,11)\n",
    "a"
   ]
  },
  {
   "cell_type": "code",
   "execution_count": 25,
   "id": "b75bcf4b",
   "metadata": {},
   "outputs": [
    {
     "data": {
      "text/plain": [
       "array([1.        , 1.25992105, 1.44224957, 1.58740105, 1.70997595,\n",
       "       1.81712059, 1.91293118, 2.        , 2.08008382, 2.15443469])"
      ]
     },
     "execution_count": 25,
     "metadata": {},
     "output_type": "execute_result"
    }
   ],
   "source": [
    "#Cube Root\n",
    "scipy.special.cbrt(a)"
   ]
  },
  {
   "cell_type": "code",
   "execution_count": 27,
   "id": "0e7e387a",
   "metadata": {},
   "outputs": [
    {
     "data": {
      "text/plain": [
       "100000.0"
      ]
     },
     "execution_count": 27,
     "metadata": {},
     "output_type": "execute_result"
    }
   ],
   "source": [
    "# Exponent of 10 (exp10())\n",
    "x = 5\n",
    "scipy.special.exp10(x)"
   ]
  },
  {
   "cell_type": "code",
   "execution_count": 28,
   "id": "c5638692",
   "metadata": {},
   "outputs": [
    {
     "data": {
      "text/plain": [
       "8.0"
      ]
     },
     "execution_count": 28,
     "metadata": {},
     "output_type": "execute_result"
    }
   ],
   "source": [
    "# Exponent of 2 (exp2())\n",
    "x = 3\n",
    "scipy.special.exp2(x)"
   ]
  },
  {
   "cell_type": "code",
   "execution_count": 29,
   "id": "575a029b",
   "metadata": {},
   "outputs": [
    {
     "data": {
      "text/plain": [
       "0.5267500645255109"
      ]
     },
     "execution_count": 29,
     "metadata": {},
     "output_type": "execute_result"
    }
   ],
   "source": [
    "# Degree to Radian (radian(d,m,s))\n",
    "d = 30\n",
    "m = 10\n",
    "s = 50\n",
    "scipy.special.radian(d,m,s)"
   ]
  },
  {
   "cell_type": "code",
   "execution_count": 30,
   "id": "e39e911e",
   "metadata": {},
   "outputs": [
    {
     "name": "stdout",
     "output_type": "stream",
     "text": [
      "Sine of 30 degrees =  0.49999999999999994\n",
      "Cosine of 30 degrees =  0.8660254037844387\n",
      "Tangent of 30 degrees =  0.5773502691896257\n"
     ]
    }
   ],
   "source": [
    "# Trigonometric Funtions (in degrees)\n",
    "print(\"Sine of 30 degrees = \",scipy.special.sindg(30))\n",
    "print(\"Cosine of 30 degrees = \",scipy.special.cosdg(30))\n",
    "print(\"Tangent of 30 degrees = \",scipy.special.tandg(30))"
   ]
  },
  {
   "cell_type": "code",
   "execution_count": 31,
   "id": "2473f877",
   "metadata": {},
   "outputs": [
    {
     "data": {
      "text/plain": [
       "20.0"
      ]
     },
     "execution_count": 31,
     "metadata": {},
     "output_type": "execute_result"
    }
   ],
   "source": [
    "# Permutation\n",
    "scipy.special.perm(5,2) #5P2 = 20"
   ]
  },
  {
   "cell_type": "code",
   "execution_count": 32,
   "id": "33c87cc0",
   "metadata": {},
   "outputs": [
    {
     "data": {
      "text/plain": [
       "10.0"
      ]
     },
     "execution_count": 32,
     "metadata": {},
     "output_type": "execute_result"
    }
   ],
   "source": [
    "# Combination\n",
    "scipy.special.comb(5,2) #5C2 = 10"
   ]
  },
  {
   "cell_type": "markdown",
   "id": "6813abfa",
   "metadata": {
    "colab_type": "text",
    "id": "GakHOhpvs7hV"
   },
   "source": [
    "## 3) Integration (import scipy.integrate)"
   ]
  },
  {
   "cell_type": "markdown",
   "id": "445c6c75",
   "metadata": {
    "colab_type": "text",
    "id": "P8bRT6lDtFXH"
   },
   "source": [
    "### Numerous Types of Integration are available in scipy\n",
    "\n",
    "   1. quad - Single integration \n",
    "   2. dblquad - Double integration \n",
    "   3. tplquad - Triple integration \n",
    "   4. nquad  - n-fold multiple integration\n",
    "   5. and many more..."
   ]
  },
  {
   "cell_type": "code",
   "execution_count": 33,
   "id": "bd7bec86",
   "metadata": {},
   "outputs": [],
   "source": [
    "import scipy.integrate"
   ]
  },
  {
   "cell_type": "markdown",
   "id": "f0ba3261",
   "metadata": {
    "colab_type": "text",
    "id": "mbruD-xYvcrW"
   },
   "source": [
    "#### Lambda Function in brief"
   ]
  },
  {
   "cell_type": "code",
   "execution_count": 35,
   "id": "c9347e3a",
   "metadata": {},
   "outputs": [
    {
     "data": {
      "text/plain": [
       "27"
      ]
     },
     "execution_count": 35,
     "metadata": {},
     "output_type": "execute_result"
    }
   ],
   "source": [
    "f= lambda x: x**x\n",
    "f(3)"
   ]
  },
  {
   "cell_type": "code",
   "execution_count": 36,
   "id": "9b698c60",
   "metadata": {},
   "outputs": [
    {
     "data": {
      "text/plain": [
       "3125"
      ]
     },
     "execution_count": 36,
     "metadata": {},
     "output_type": "execute_result"
    }
   ],
   "source": [
    "f(5)"
   ]
  },
  {
   "cell_type": "code",
   "execution_count": 37,
   "id": "0efdd2b3",
   "metadata": {},
   "outputs": [
    {
     "data": {
      "text/plain": [
       "3125"
      ]
     },
     "execution_count": 37,
     "metadata": {},
     "output_type": "execute_result"
    }
   ],
   "source": [
    "5*5*5*5*5"
   ]
  },
  {
   "cell_type": "code",
   "execution_count": 38,
   "id": "b821de82",
   "metadata": {},
   "outputs": [
    {
     "data": {
      "text/plain": [
       "6"
      ]
     },
     "execution_count": 38,
     "metadata": {},
     "output_type": "execute_result"
    }
   ],
   "source": [
    "g = lambda x,y : x*y\n",
    "g(2,3)"
   ]
  },
  {
   "cell_type": "code",
   "execution_count": 39,
   "id": "abcc0a1c",
   "metadata": {},
   "outputs": [
    {
     "data": {
      "text/plain": [
       "9"
      ]
     },
     "execution_count": 39,
     "metadata": {},
     "output_type": "execute_result"
    }
   ],
   "source": [
    "h = lambda x,y : x**2 + 2*x*y + y**2 #(x+y)^2\n",
    "h(1,2)  #(1+2)^2"
   ]
  },
  {
   "cell_type": "code",
   "execution_count": 40,
   "id": "c7f89c39",
   "metadata": {},
   "outputs": [
    {
     "data": {
      "text/plain": [
       "(3.7500000000000004, 4.1633363423443377e-14)"
      ]
     },
     "execution_count": 40,
     "metadata": {},
     "output_type": "execute_result"
    }
   ],
   "source": [
    "f = lambda x : x**3\n",
    "i = scipy.integrate.quad(f, 1, 2)\n",
    "i"
   ]
  },
  {
   "cell_type": "code",
   "execution_count": 41,
   "id": "7ede560d",
   "metadata": {},
   "outputs": [
    {
     "data": {
      "text/plain": [
       "(0.08546832942957776, 2.1640276156712023e-12)"
      ]
     },
     "execution_count": 41,
     "metadata": {},
     "output_type": "execute_result"
    }
   ],
   "source": [
    "from numpy import exp\n",
    "f= lambda x:exp(-x**3)\n",
    "i = scipy.integrate.quad(f, 1, 4)\n",
    "i"
   ]
  },
  {
   "cell_type": "code",
   "execution_count": 42,
   "id": "346bda4a",
   "metadata": {},
   "outputs": [
    {
     "data": {
      "text/plain": [
       "(0.010416666666666668, 4.101620128472366e-16)"
      ]
     },
     "execution_count": 42,
     "metadata": {},
     "output_type": "execute_result"
    }
   ],
   "source": [
    "# Double Integration (Used for area under curve)\n",
    "\n",
    "#scipy.integrate.dblquad(func, lower_limit, upper_limit, func2, func3)\n",
    "area = scipy.integrate.dblquad(lambda x, y: x*y, 0, 0.5, lambda x: 0, lambda y: 1-2*y)\n",
    "area"
   ]
  },
  {
   "cell_type": "code",
   "execution_count": null,
   "id": "ed3e4668",
   "metadata": {},
   "outputs": [],
   "source": []
  },
  {
   "cell_type": "code",
   "execution_count": null,
   "id": "76ef02fd",
   "metadata": {},
   "outputs": [],
   "source": []
  },
  {
   "cell_type": "code",
   "execution_count": null,
   "id": "1f963aad",
   "metadata": {},
   "outputs": [],
   "source": []
  },
  {
   "cell_type": "code",
   "execution_count": null,
   "id": "8656c2cb",
   "metadata": {},
   "outputs": [],
   "source": []
  },
  {
   "cell_type": "code",
   "execution_count": null,
   "id": "6bd65d57",
   "metadata": {},
   "outputs": [],
   "source": []
  },
  {
   "cell_type": "code",
   "execution_count": null,
   "id": "bf9d08fa",
   "metadata": {},
   "outputs": [],
   "source": []
  },
  {
   "cell_type": "code",
   "execution_count": null,
   "id": "2be09838",
   "metadata": {},
   "outputs": [],
   "source": []
  },
  {
   "cell_type": "code",
   "execution_count": null,
   "id": "dfbd1872",
   "metadata": {},
   "outputs": [],
   "source": []
  },
  {
   "cell_type": "code",
   "execution_count": null,
   "id": "a3b41f1a",
   "metadata": {},
   "outputs": [],
   "source": []
  },
  {
   "cell_type": "code",
   "execution_count": null,
   "id": "c0848d75",
   "metadata": {},
   "outputs": [],
   "source": []
  },
  {
   "cell_type": "code",
   "execution_count": null,
   "id": "2c40eb23",
   "metadata": {},
   "outputs": [],
   "source": []
  }
 ],
 "metadata": {
  "kernelspec": {
   "display_name": "Python 3 (ipykernel)",
   "language": "python",
   "name": "python3"
  },
  "language_info": {
   "codemirror_mode": {
    "name": "ipython",
    "version": 3
   },
   "file_extension": ".py",
   "mimetype": "text/x-python",
   "name": "python",
   "nbconvert_exporter": "python",
   "pygments_lexer": "ipython3",
   "version": "3.9.13"
  }
 },
 "nbformat": 4,
 "nbformat_minor": 5
}
